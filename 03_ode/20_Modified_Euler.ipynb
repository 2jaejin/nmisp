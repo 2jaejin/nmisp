{
 "cells": [
  {
   "cell_type": "code",
   "execution_count": null,
   "metadata": {},
   "outputs": [],
   "source": [
    "# 그래프, 수학 기능 추가\n",
    "# Add graph and math features\n",
    "import pylab as py\n",
    "import numpy as np\n",
    "import numpy.linalg as nl\n",
    "# 기호 연산 기능 추가\n",
    "# Add symbolic operation capability\n",
    "import sympy as sy"
   ]
  },
  {
   "cell_type": "code",
   "execution_count": null,
   "metadata": {},
   "outputs": [],
   "source": [
    "sy.init_printing()"
   ]
  },
  {
   "cell_type": "markdown",
   "metadata": {},
   "source": [
    "# 상미분방정식을 위한 수정 오일러법<br>Modified Euler Method for Ordinary Differntial Equation"
   ]
  },
  {
   "cell_type": "markdown",
   "metadata": {},
   "source": [
    "## 전진오일러법 적용 예 검토<br>Review of Forward Euler Method"
   ]
  },
  {
   "cell_type": "markdown",
   "metadata": {},
   "source": [
    "다시 한번 다음 1계 미분 방정식을 생각해 보자.<br>Once again, let's think about the following first order differential equation again."
   ]
  },
  {
   "cell_type": "markdown",
   "metadata": {},
   "source": [
    "$$\n",
    "\\left\\{\n",
    "    \\begin{align}\n",
    "        a_0 \\frac{d}{dt}x(t)+a_1 x(t)&=0 \\\\\n",
    "        x(0)&=x_0 \\\\\n",
    "    \\end{align}\n",
    "\\right.\n",
    "$$"
   ]
  },
  {
   "cell_type": "code",
   "execution_count": null,
   "metadata": {},
   "outputs": [],
   "source": [
    "a_0, a_1 = 2.0, 1.0\n",
    "\n",
    "def dx_dt(x, t):\n",
    "    return - a_1 * x / a_0"
   ]
  },
  {
   "cell_type": "markdown",
   "metadata": {},
   "source": [
    "예를 들어 $0 \\le t \\le 6$, $0 \\le x \\le 6$ 인 영역에서 기울기를 그려 보자.<br>\n",
    "Let's plot slopes within the region of $0 \\le t \\le 6$ and $0 \\le x \\le 6$."
   ]
  },
  {
   "cell_type": "code",
   "execution_count": null,
   "metadata": {},
   "outputs": [],
   "source": [
    "t_array = py.linspace(0, 6)\n",
    "x_array = py.linspace(0, 6)"
   ]
  },
  {
   "cell_type": "code",
   "execution_count": null,
   "metadata": {},
   "outputs": [],
   "source": [
    "def ode_slope_1state_interval(func, delta_t, delta_x, te, ti, x_max, x_min):\n",
    "    time_list = np.arange(ti, te, delta_t)\n",
    "    x_list = np.arange(x_min, x_max + 0.5 * delta_x, delta_x)\n",
    "    ode_slope_1state(func, x_list, time_list)\n",
    "    return time_list\n",
    "\n",
    "\n",
    "def ode_slope_1state(func, x_list, time_list):\n",
    "    \"\"\"\n",
    "    Plot field of arrows indicating derivatives of the state\n",
    "    :param func:\n",
    "    :param x_list:\n",
    "    :param time_list:\n",
    "    :return:\n",
    "    \"\"\"\n",
    "    time_mesh, x_mesh = np.meshgrid(time_list, x_list)\n",
    "    u_mesh = np.ones_like(x_mesh)\n",
    "    v_mesh = func(x_mesh, time_mesh)\n",
    "    # magnitude as color\n",
    "    color_mesh = np.sqrt(u_mesh * u_mesh + v_mesh * v_mesh)\n",
    "\n",
    "    # https://stackoverflow.com/questions/29589119/plot-width-settings-in-ipython-notebook\n",
    "    py.figure(figsize=(12, 12))\n",
    "    py.quiver(time_mesh, x_mesh, u_mesh, v_mesh, color_mesh, angles='xy')\n",
    "    py.xlabel('t')\n",
    "    py.ylabel('x')\n",
    "    py.xlim((time_list[0] - (time_list[1] - time_list[0]) * 0.125, time_list[-1]))\n",
    "    py.ylim((min(x_list) - (x_list[1] - x_list[0]) * 0.125,\n",
    "                max(x_list) + (x_list[-1] - x_list[-2]) * 0.125))\n",
    "    py.grid(True)"
   ]
  },
  {
   "cell_type": "code",
   "execution_count": null,
   "metadata": {},
   "outputs": [],
   "source": [
    "def forward_euler(f, t_array, x_0):\n",
    "    time_list = [t_array[0]]\n",
    "    result_list = [x_0]\n",
    "\n",
    "    x_i = x_0\n",
    "\n",
    "    for k, t_i in enumerate(t_array[:-1]):\n",
    "        # time step\n",
    "        delta_t = t_array[k+1] - t_array[k]\n",
    "\n",
    "        # slope\n",
    "        s_i = f(x_i, t_i)\n",
    "\n",
    "        # x[i + 1]\n",
    "        x_i_plus_1 = x_i + s_i * delta_t\n",
    "\n",
    "        time_list.append(t_array[k+1])\n",
    "        result_list.append(x_i_plus_1)\n",
    "        \n",
    "        x_i = x_i_plus_1\n",
    "\n",
    "    return time_list, result_list\n"
   ]
  },
  {
   "cell_type": "code",
   "execution_count": null,
   "metadata": {},
   "outputs": [],
   "source": [
    "# Slopes at each (t, x) points\n",
    "ode_slope_1state(dx_dt, x_array, t_array)\n",
    "\n",
    "# Time step interval\n",
    "delta_t = 1.0\n",
    "\n",
    "# Time array\n",
    "t_sec_array = np.arange(0, 6 + delta_t*0.5, delta_t)\n",
    "\n",
    "# Initial state\n",
    "x_0 = 4.5\n",
    "\n",
    "# *** ODE solver ***\n",
    "t_out, x_out = forward_euler(dx_dt, t_sec_array, x_0)\n",
    "\n",
    "py.plot(t_out, x_out, '.-', label='Forward Euler')\n",
    "\n",
    "py.axis('equal')\n",
    "\n",
    "py.xlabel('t(sec)')\n",
    "py.ylabel('x(m)')\n",
    "\n",
    "py.legend(loc=0)\n",
    "py.grid(True)\n"
   ]
  },
  {
   "cell_type": "code",
   "execution_count": null,
   "metadata": {},
   "outputs": [],
   "source": []
  }
 ],
 "metadata": {
  "kernelspec": {
   "display_name": "Python 3",
   "language": "python",
   "name": "python3"
  },
  "language_info": {
   "codemirror_mode": {
    "name": "ipython",
    "version": 3
   },
   "file_extension": ".py",
   "mimetype": "text/x-python",
   "name": "python",
   "nbconvert_exporter": "python",
   "pygments_lexer": "ipython3",
   "version": "3.6.4"
  }
 },
 "nbformat": 4,
 "nbformat_minor": 2
}
