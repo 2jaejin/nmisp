{
 "cells": [
  {
   "cell_type": "code",
   "execution_count": null,
   "metadata": {},
   "outputs": [],
   "source": [
    "# 그래프, 수학 기능 추가\n",
    "# Add graph and math features\n",
    "import pylab as py\n",
    "import numpy as np\n",
    "import numpy.linalg as nl\n",
    "# 기호 연산 기능 추가\n",
    "# Add symbolic operation capability\n",
    "import sympy as sy"
   ]
  },
  {
   "cell_type": "code",
   "execution_count": null,
   "metadata": {},
   "outputs": [],
   "source": [
    "sy.init_printing()"
   ]
  },
  {
   "cell_type": "markdown",
   "metadata": {},
   "source": [
    "# 상미분방정식을 위한 전진 오일러법<br>Forward Euler Method for Ordinary Differntial Equation"
   ]
  },
  {
   "cell_type": "markdown",
   "metadata": {},
   "source": [
    "## 여러 $(t, x)$ 지점에서의 기울기<br>Slopes at $(t, x)$ points"
   ]
  },
  {
   "cell_type": "markdown",
   "metadata": {},
   "source": [
    "다시 한번 주어진 미분 방정식을 생각해 보자.<br>Let's think about the first order differential equation again."
   ]
  },
  {
   "cell_type": "markdown",
   "metadata": {},
   "source": [
    "$$\n",
    "\\left\\{\n",
    "    \\begin{align}\n",
    "        a_0 \\frac{d}{dt}x(t)+a_1 x(t)&=0 \\\\\n",
    "        x(0)&=x_0 \\\\\n",
    "    \\end{align}\n",
    "\\right.\n",
    "$$"
   ]
  },
  {
   "cell_type": "markdown",
   "metadata": {},
   "source": [
    "미분항을 남기고 나머지를 등호의 오른쪽으로 옮겨 보자.<br>Let's move terms except the differential to the right side of the equal sign."
   ]
  },
  {
   "cell_type": "markdown",
   "metadata": {},
   "source": [
    "$$\n",
    "a_0 \\frac{d}{dt}x(t)=-a_1 x(t)\n",
    "$$"
   ]
  },
  {
   "cell_type": "markdown",
   "metadata": {},
   "source": [
    "양변을 $a_0$로 나누어 보자.<br>Let's divide both sides with $a_0$."
   ]
  },
  {
   "cell_type": "markdown",
   "metadata": {},
   "source": [
    "$$\n",
    "\\frac{d}{dt}x(t)=-\\frac{a_1}{a_0} x(t)\n",
    "$$"
   ]
  },
  {
   "cell_type": "markdown",
   "metadata": {},
   "source": [
    "이 식의 의미를 한번 생각해 보자.<br>Let's think about the meaning of this equation."
   ]
  },
  {
   "cell_type": "markdown",
   "metadata": {},
   "source": [
    "위 미분방정식을 만족시키는 어떤 함수 $x(t)$의 $t=t_i$, $x=x_j$ 점에서의 $t$에 대한 기울기는 다음과 같을 것이라는 의미이다.<br>\n",
    "This equation indicates that a function $x(t)$ satisfying the differential equation above would have a slope as follows at a point of $t=t_i$ and $x=x_j$."
   ]
  },
  {
   "cell_type": "markdown",
   "metadata": {},
   "source": [
    "$$\n",
    "\\left.\\frac{d}{dt}x\\right|_{\\left(t, x\\right)=\\left(t_i,x_j\\right)}=-\\frac{a_1}{a_0} x_j\n",
    "$$"
   ]
  },
  {
   "cell_type": "markdown",
   "metadata": {},
   "source": [
    "이런식으로 $t$의 변화에 따른 $x$의 기울기 $\\frac{d}{dx}x(t)$ 를 모든 $(t, x)$ 점에서 구할 수 있다.<br>\n",
    "In this way, we can find all the $\\frac{d}{dx}x(t)$, slopes of $x$ with respect to the change of $t$ at all $(t, x)$ points."
   ]
  },
  {
   "cell_type": "markdown",
   "metadata": {},
   "source": [
    "## 기울기 시각화<br>Visualizing the slopes"
   ]
  },
  {
   "cell_type": "markdown",
   "metadata": {},
   "source": [
    "다음 예를 생각해 보자.<br>\n",
    "Let's think about an example as follows."
   ]
  },
  {
   "cell_type": "code",
   "execution_count": null,
   "metadata": {},
   "outputs": [],
   "source": [
    "a_0, a_1 = 2.0, 1.0"
   ]
  },
  {
   "cell_type": "markdown",
   "metadata": {},
   "source": [
    "$$\n",
    "\\left\\{\n",
    "    \\begin{align}\n",
    "        2 \\frac{d}{dt}x(t)+ x(t)&=0 \\\\\n",
    "        x(0)&=x_0 \\\\\n",
    "    \\end{align}\n",
    "\\right.\n",
    "$$"
   ]
  },
  {
   "cell_type": "markdown",
   "metadata": {},
   "source": [
    "기울기를 계산하는 파이썬 함수를 생각해 보자.<br>Let's think about a python function calculating the slope."
   ]
  },
  {
   "cell_type": "code",
   "execution_count": null,
   "metadata": {},
   "outputs": [],
   "source": [
    "def dx_dt(x, t):\n",
    "    return - a_1 * x / a_0"
   ]
  },
  {
   "cell_type": "markdown",
   "metadata": {},
   "source": [
    "예를 들어 $0 \\le t \\le 10$, $-6 \\le x \\le 6$ 인 영역에서 기울기를 그려 보자.<br>\n",
    "Let's plot slopes within the region of $0 \\le t \\le 10$ and $-5 \\le x \\le 5$."
   ]
  },
  {
   "cell_type": "code",
   "execution_count": null,
   "metadata": {},
   "outputs": [],
   "source": [
    "t_array = py.linspace(0, 10)\n",
    "x_array = py.linspace(-6, 6)"
   ]
  },
  {
   "cell_type": "code",
   "execution_count": null,
   "metadata": {},
   "outputs": [],
   "source": [
    "def ode_slope_1state_interval(func, delta_t, delta_x, te, ti, x_max, x_min):\n",
    "    time_list = np.arange(ti, te, delta_t)\n",
    "    x_list = np.arange(x_min, x_max + 0.5 * delta_x, delta_x)\n",
    "    ode_slope_1state(func, x_list, time_list)\n",
    "    return time_list\n",
    "\n",
    "\n",
    "def ode_slope_1state(func, x_list, time_list):\n",
    "    \"\"\"\n",
    "    Plot field of arrows indicating derivatives of the state\n",
    "    :param func:\n",
    "    :param x_list:\n",
    "    :param time_list:\n",
    "    :return:\n",
    "    \"\"\"\n",
    "    time_mesh, x_mesh = np.meshgrid(time_list, x_list)\n",
    "    u_mesh = np.ones_like(x_mesh)\n",
    "    v_mesh = func(x_mesh, time_mesh)\n",
    "    # magnitude as color\n",
    "    color_mesh = np.sqrt(u_mesh * u_mesh + v_mesh * v_mesh)\n",
    "\n",
    "    # https://stackoverflow.com/questions/29589119/plot-width-settings-in-ipython-notebook\n",
    "    py.figure(figsize=(12, 12))\n",
    "    py.quiver(time_mesh, x_mesh, u_mesh, v_mesh, color_mesh, angles='xy')\n",
    "    py.xlabel('t')\n",
    "    py.ylabel('x')\n",
    "    py.xlim((time_list[0] - (time_list[1] - time_list[0]) * 0.125, time_list[-1]))\n",
    "    py.ylim((min(x_list) - (x_list[1] - x_list[0]) * 0.125,\n",
    "                max(x_list) + (x_list[-1] - x_list[-2]) * 0.125))\n",
    "    py.grid(True)\n",
    "\n",
    "ode_slope_1state(dx_dt, x_array, t_array)\n",
    "py.savefig('slopes_t_x.png', dpi=300)\n"
   ]
  },
  {
   "cell_type": "markdown",
   "metadata": {},
   "source": [
    "엄밀해를 겹쳐 그려 보자<br>Let's overlap the exact solution."
   ]
  },
  {
   "cell_type": "markdown",
   "metadata": {},
   "source": [
    "$$x(t)=x_0 e^{-\\frac{a_1}{a_0} t}$$"
   ]
  },
  {
   "cell_type": "code",
   "execution_count": null,
   "metadata": {},
   "outputs": [],
   "source": [
    "x_0 = 4.5\n",
    "\n",
    "def exact(t):\n",
    "    return x_0 * py.exp((-a_1 / a_0) * t)\n",
    "\n",
    "x_exact_array = exact(t_array)\n",
    "\n",
    "ode_slope_1state(dx_dt, x_array, t_array)\n",
    "py.plot(t_array, x_exact_array, label='exact')\n",
    "\n",
    "py.legend(loc=0, fontsize='xx-large')\n",
    "\n",
    "py.savefig('slopes_t_x.svg')\n"
   ]
  },
  {
   "cell_type": "markdown",
   "metadata": {},
   "source": [
    "이것을 이용해서 미분방정식의 해를 구해볼 수 있을까?<br>Using this, can we find a solution of a differential equation?"
   ]
  },
  {
   "cell_type": "code",
   "execution_count": null,
   "metadata": {},
   "outputs": [],
   "source": []
  }
 ],
 "metadata": {
  "kernelspec": {
   "display_name": "Python 3",
   "language": "python",
   "name": "python3"
  },
  "language_info": {
   "codemirror_mode": {
    "name": "ipython",
    "version": 3
   },
   "file_extension": ".py",
   "mimetype": "text/x-python",
   "name": "python",
   "nbconvert_exporter": "python",
   "pygments_lexer": "ipython3",
   "version": "3.6.5"
  }
 },
 "nbformat": 4,
 "nbformat_minor": 2
}
