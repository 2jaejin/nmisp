{
 "cells": [
  {
   "cell_type": "code",
   "execution_count": null,
   "metadata": {},
   "outputs": [],
   "source": [
    "# 그래프, 수학 기능 추가\n",
    "# Add graph and math features\n",
    "import pylab as py\n",
    "import numpy as np\n",
    "import numpy.linalg as nl\n",
    "# 기호 연산 기능 추가\n",
    "# Add symbolic operation capability\n",
    "import sympy as sy"
   ]
  },
  {
   "cell_type": "code",
   "execution_count": null,
   "metadata": {},
   "outputs": [],
   "source": [
    "sy.init_printing()"
   ]
  },
  {
   "cell_type": "markdown",
   "metadata": {},
   "source": [
    "# 상미분방정식을 위한 전진 오일러법<br>Forward Euler Method for Ordinary Differntial Equation"
   ]
  },
  {
   "cell_type": "markdown",
   "metadata": {},
   "source": [
    "다시 한번 주어진 미분 방정식을 생각해 보자.<br>Let's think about the first order differential equation"
   ]
  },
  {
   "cell_type": "markdown",
   "metadata": {},
   "source": [
    "$$\n",
    "\\left\\{\n",
    "    \\begin{align}\n",
    "        a_0 \\frac{d}{dx}x(t)+a_1 x(t)&=0 \\\\\n",
    "        x(0)&=x_0 \\\\\n",
    "    \\end{align}\n",
    "\\right.\n",
    "$$"
   ]
  },
  {
   "cell_type": "markdown",
   "metadata": {},
   "source": [
    "미분항을 남기고 나머지를 등호의 오른쪽으로 옮겨 보자.<br>Let's move terms except the differential to the right side of the equal sign."
   ]
  },
  {
   "cell_type": "markdown",
   "metadata": {},
   "source": [
    "$$\n",
    "a_0 \\frac{d}{dx}x(t)=-a_1 x(t)\n",
    "$$"
   ]
  },
  {
   "cell_type": "markdown",
   "metadata": {},
   "source": [
    "양변을 $a_0$로 나누어 보자.<br>Let's divide both sides with $a_0$."
   ]
  },
  {
   "cell_type": "markdown",
   "metadata": {},
   "source": [
    "$$\n",
    "\\frac{d}{dx}x(t)=-\\frac{a_1}{a_0} x(t)\n",
    "$$"
   ]
  },
  {
   "cell_type": "markdown",
   "metadata": {},
   "source": [
    "이런식으로 $t$의 변화에 따른 $x$의 기울기 $\\frac{d}{dx}x(t)$ 를 모든 $(t, x)$ 점에서 구할 수 있다.<br>\n",
    "In this way, we can find all the $\\frac{d}{dx}x(t)$, slopes of $x$ with respect to the change of $t$ at all $(t, x)$ points."
   ]
  },
  {
   "cell_type": "markdown",
   "metadata": {},
   "source": [
    "$a_0 = 1$, $a_1 = 2$ 인 예를 생각해 보자.<br>\n",
    "Let's think about an example of $a_0 = 1$ and $a_1 = 2$."
   ]
  },
  {
   "cell_type": "markdown",
   "metadata": {},
   "source": [
    "이것을 이용해서 미분방정식의 해를 구해볼 수 있을까?<br>Using this, can we find a solution of a differential equation?"
   ]
  },
  {
   "cell_type": "code",
   "execution_count": null,
   "metadata": {},
   "outputs": [],
   "source": []
  }
 ],
 "metadata": {
  "kernelspec": {
   "display_name": "Python 3",
   "language": "python",
   "name": "python3"
  },
  "language_info": {
   "codemirror_mode": {
    "name": "ipython",
    "version": 3
   },
   "file_extension": ".py",
   "mimetype": "text/x-python",
   "name": "python",
   "nbconvert_exporter": "python",
   "pygments_lexer": "ipython3",
   "version": "3.6.4"
  }
 },
 "nbformat": 4,
 "nbformat_minor": 2
}
