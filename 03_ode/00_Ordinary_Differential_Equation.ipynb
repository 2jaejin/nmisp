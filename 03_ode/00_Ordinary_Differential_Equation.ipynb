{
 "cells": [
  {
   "cell_type": "markdown",
   "metadata": {},
   "source": [
    "# 상미분 방정식<br>Ordinary Differential Equation"
   ]
  },
  {
   "cell_type": "markdown",
   "metadata": {},
   "source": [
    "미분 방정식의 한 간단한 예는 다음과 같다.<br>A simple example of a differential equation is as follows."
   ]
  },
  {
   "cell_type": "markdown",
   "metadata": {},
   "source": [
    "$$\n",
    "\\left\\{\n",
    "    \\begin{align}\n",
    "        a_0 \\frac{d}{dx}x(t)+a_1 x(t)&=0 \\\\\n",
    "        x(0)&=x_0 \\\\\n",
    "    \\end{align}\n",
    "\\right.\n",
    "$$"
   ]
  },
  {
   "cell_type": "markdown",
   "metadata": {},
   "source": [
    "위 미분방정식의 해는 함수 $x(t)$ 이다.<br>\n",
    "A solution for the differential equation above is the function $x(t)$."
   ]
  },
  {
   "cell_type": "markdown",
   "metadata": {},
   "source": [
    "어떤 미분방정식을 푼다는 것은, 해당 미분방정식을 만족하는 함수 $x(t)$를 찾는 것을 뜻한다.<br>\n",
    "Solving for a differential equation means searching for a function $x(t)$ satisfying the differential equation."
   ]
  },
  {
   "cell_type": "markdown",
   "metadata": {},
   "source": [
    "처음에는 어떤 형태의 함수가 해당 미분 방정식을 만족시킬 것인지 잘 모를 수도 있겠지만 몇 가지 함수를 생각해 보자.<br>\n",
    "At first, we may not be certain about which type of function may satisfy the equation above, but let's consider a few possible candiates."
   ]
  },
  {
   "cell_type": "markdown",
   "metadata": {},
   "source": [
    "## 다항식?<br>A polynomial?\n"
   ]
  },
  {
   "cell_type": "markdown",
   "metadata": {},
   "source": [
    "다음과 같은 다항식이 만족시킬 수 있을까?<br>Is a polynomial as follows suitable?"
   ]
  },
  {
   "cell_type": "markdown",
   "metadata": {},
   "source": [
    "$$\n",
    "    x(t) = A_0 t^2 + A_1 t + A_2\n",
    "$$"
   ]
  },
  {
   "cell_type": "markdown",
   "metadata": {},
   "source": [
    "미분해 보자<br>Let's differentiate."
   ]
  },
  {
   "cell_type": "markdown",
   "metadata": {},
   "source": [
    "$$\n",
    "    \\frac{d}{dt}x(t) = 2 A_0 t + A_1\n",
    "$$\n"
   ]
  },
  {
   "cell_type": "markdown",
   "metadata": {},
   "source": [
    "각각 계수로 곱해보자.<br>Let's multiply with respective coefficients."
   ]
  },
  {
   "cell_type": "markdown",
   "metadata": {},
   "source": [
    "$$\n",
    "\\left\\{\n",
    "    \\begin{align}\n",
    "        a_0 \\frac{d}{dx}x(t) &= a_0 \\left(2 A_0 t + A_1 \\right)\\\\\n",
    "        a_1 x(t)&=a_1 \\left( A_0 t^2 + A_1 t + A_2 \\right) \\\\\n",
    "    \\end{align}\n",
    "\\right.\n",
    "$$\n"
   ]
  },
  {
   "cell_type": "markdown",
   "metadata": {},
   "source": [
    "등호의 오른쪽은 오른쪽 끼리, 등호의 왼쪽은 왼쪽 끼리 더해 보자.<br>Let's add each side respectively."
   ]
  },
  {
   "cell_type": "markdown",
   "metadata": {},
   "source": [
    "$$\n",
    "\\begin{align}\n",
    "    a_1 x(t) + a_0\\frac{d}{dt}x(t) &= a_1 \\left( A_0 t^2 + A_1 t + A_2 \\right) + a_0 \\left(2 A_0 t + A_1 \\right) \\\\\n",
    "    & = a_1 A_0 t^2 + \\left(2 a_0 A_0 + a_1 A_1\\right) t + \\left(a_0 A_1 + a_1 A_2\\right)\n",
    "\\end{align}\n",
    "$$\n"
   ]
  },
  {
   "cell_type": "markdown",
   "metadata": {},
   "source": [
    "위에서<br>Remember"
   ]
  },
  {
   "cell_type": "markdown",
   "metadata": {},
   "source": [
    "$$\n",
    "a_0 \\frac{d}{dx}x(t)+a_1 x(t)=0\n",
    "$$"
   ]
  },
  {
   "cell_type": "markdown",
   "metadata": {},
   "source": [
    "이었으므로 <br> thus"
   ]
  },
  {
   "cell_type": "markdown",
   "metadata": {},
   "source": [
    "$$\n",
    "a_1 A_0 t^2 + \\left(2 a_0 A_0 + a_1 A_1\\right) t + \\left(a_0 A_1 + a_1 A_2\\right) = 0\n",
    "$$"
   ]
  },
  {
   "cell_type": "markdown",
   "metadata": {},
   "source": [
    "이어야 한다. <br> should be satisfied."
   ]
  },
  {
   "cell_type": "markdown",
   "metadata": {},
   "source": [
    "이러한 조건이 전혀 만족될 수 없는 것은 아닐 것이나, 일단은 좀 더 일반적으로 유용할 수 있어 보이는 경우를 살펴보도록 하자.<br>\n",
    "This could be satisfied in some way, for now let's take a look at a different case that seems more generally useful."
   ]
  },
  {
   "cell_type": "markdown",
   "metadata": {},
   "source": [
    "Can polynomial \\begin{equation} \\pi_x(t) = \\sum^m_{k=0}x_kt^k \\end{equation} be a solution to a linear ordinary differential equation: \\begin{equation} \\dot{x}(t) = A x(t) \\end{equation} where $x \\in \\mathbb{R}^n$ and $A \\in \\mathbb{R}^{n \\times n}$."
   ]
  },
  {
   "cell_type": "markdown",
   "metadata": {},
   "source": [
    "This generally won't work if $A \\in \\Bbb R^{n \\times n}$ is a constant matrix, since, writing\n",
    "\n",
    "$x(t) = \\sum_0^m x_i t^i, \\tag 1$\n",
    "\n",
    "where the $x_i \\in \\Bbb R^n$, we have\n",
    "\n",
    "$\\deg Ax(t) = \\deg x(t) = m; \\tag 2$\n",
    "\n",
    "but\n",
    "\n",
    "$\\deg \\dot x(t) \\le m - 1. \\tag 3$\n",
    "\n",
    "There are however certain classes of matrices for which polynomial solutions may be had, e.g. if $A$ is nilpotent, as pointed out in the comment of Kajelad. But there will never be a solution when $A$ is non-singular, since it will then not annihilate $x_m$, the coefficient of $t^m$.\n",
    "\n",
    "I may return to this later and discuss conditions on $A$ which imply the existence of a solution."
   ]
  },
  {
   "cell_type": "code",
   "execution_count": null,
   "metadata": {},
   "outputs": [],
   "source": []
  }
 ],
 "metadata": {
  "kernelspec": {
   "display_name": "Python 3",
   "language": "python",
   "name": "python3"
  },
  "language_info": {
   "codemirror_mode": {
    "name": "ipython",
    "version": 3
   },
   "file_extension": ".py",
   "mimetype": "text/x-python",
   "name": "python",
   "nbconvert_exporter": "python",
   "pygments_lexer": "ipython3",
   "version": "3.6.4"
  }
 },
 "nbformat": 4,
 "nbformat_minor": 2
}
