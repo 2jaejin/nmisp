{
 "cells": [
  {
   "cell_type": "code",
   "execution_count": null,
   "metadata": {},
   "outputs": [],
   "source": [
    "# 그래프, 수학 기능 추가\n",
    "# Add graph and math features\n",
    "import pylab as py\n",
    "import numpy as np\n",
    "import numpy.linalg as nl\n",
    "# 기호 연산 기능 추가\n",
    "# Add symbolic operation capability\n",
    "import sympy as sy"
   ]
  },
  {
   "cell_type": "code",
   "execution_count": null,
   "metadata": {},
   "outputs": [],
   "source": [
    "sy.init_printing()"
   ]
  },
  {
   "cell_type": "markdown",
   "metadata": {},
   "source": [
    "# 전진 오일러법: 고차 미분 방정식<br>Forward Euler Method: Higher Order ODE"
   ]
  },
  {
   "cell_type": "markdown",
   "metadata": {},
   "source": [
    "## 1계 미분방정식의 예<br>An example of a first order ODE"
   ]
  },
  {
   "cell_type": "markdown",
   "metadata": {},
   "source": [
    "$$\n",
    "\\left\\{\n",
    "    \\begin{align}\n",
    "        2 \\frac{d}{dt}x(t)+ x(t)&=0 \\\\\n",
    "        x(0)&=x_0 \\\\\n",
    "    \\end{align}\n",
    "\\right.\n",
    "$$"
   ]
  },
  {
   "cell_type": "markdown",
   "metadata": {},
   "source": [
    "위 1계 미분방정식의 경우 다음과 같이 근사해를 구할 수 있었다.<br>We could find an approximate solution for a first order ordinary differential equation as follows."
   ]
  },
  {
   "cell_type": "code",
   "execution_count": null,
   "metadata": {},
   "outputs": [],
   "source": [
    "a_0, a_1 = 2.0, 1.0\n",
    "\n",
    "def dx_dt(x, t):\n",
    "    return - a_1 * x / a_0"
   ]
  },
  {
   "cell_type": "code",
   "execution_count": null,
   "metadata": {},
   "outputs": [],
   "source": [
    "def forward_euler(f, t_array, x_0):\n",
    "    time_list = [t_array[0]]\n",
    "    result_list = [x_0]\n",
    "\n",
    "    x_i = x_0\n",
    "\n",
    "    for k, t_i in enumerate(t_array[:-1]):\n",
    "        # time step\n",
    "        delta_t = t_array[k+1] - t_array[k]\n",
    "\n",
    "        # slope\n",
    "        s_i = f(x_i, t_i)\n",
    "\n",
    "        # x[i + 1]\n",
    "        x_i_plus_1 = x_i + s_i * delta_t\n",
    "\n",
    "        time_list.append(t_array[k+1])\n",
    "        result_list.append(x_i_plus_1)\n",
    "        \n",
    "        x_i = x_i_plus_1\n",
    "\n",
    "    return time_list, result_list\n",
    "\n"
   ]
  },
  {
   "cell_type": "code",
   "execution_count": null,
   "metadata": {},
   "outputs": [],
   "source": [
    "# Time step interval\n",
    "delta_t = 0.1\n",
    "\n",
    "# Time array\n",
    "t_sec_array = np.arange(0, 6 + delta_t*0.5, delta_t)\n",
    "\n",
    "# Initial state\n",
    "x_0 = 4.5\n",
    "\n",
    "# *** ODE solver ***\n",
    "t_01, x_01 = forward_euler(dx_dt, t_sec_array, x_0)\n"
   ]
  },
  {
   "cell_type": "code",
   "execution_count": null,
   "metadata": {},
   "outputs": [],
   "source": [
    "def exact(t):\n",
    "    return x_0 * py.exp((-a_1 / a_0) * t)\n"
   ]
  },
  {
   "cell_type": "code",
   "execution_count": null,
   "metadata": {},
   "outputs": [],
   "source": [
    "py.plot(t_01, x_01, '.-', label='$\\Delta t=0.1$')\n",
    "\n",
    "# Indicate the exact solution\n",
    "exact_x_array = exact(t_sec_array)\n",
    "py.plot(t_sec_array, exact_x_array, label='exact')\n",
    "\n",
    "py.axis('equal')\n",
    "\n",
    "py.xlabel('t(sec)')\n",
    "py.ylabel('x(m)')\n",
    "\n",
    "py.legend(loc=0)\n",
    "py.grid(True)\n"
   ]
  },
  {
   "cell_type": "markdown",
   "metadata": {},
   "source": [
    "그러나 앞으로 만나게 될 미분 방정식은 더 높은 차수의 미분을 포함할 수 있다.<br>However, in the future, we may meet differential equations including higher order differentiation."
   ]
  },
  {
   "cell_type": "markdown",
   "metadata": {},
   "source": [
    "## 2계 비선형 상미분 방정식<br>Second order Nonlinear Ordinary Differential Equation"
   ]
  },
  {
   "cell_type": "markdown",
   "metadata": {},
   "source": [
    "예를 들어 단진자가 어떻게 움직이는지 다음과 같이 묘사할 수 있다.<br>\n",
    "For example, we can describe how a simple pendulum moves as follows.<br>\n",
    "Ref : Wikipedia contributors, 'Pendulum (mathematics)', Wikipedia, The Free Encyclopedia, 2 June 2018, 13:28 UTC, <https://en.wikipedia.org/w/index.php?title=Pendulum_(mathematics)&oldid=844080803> [accessed 5 August 2018]"
   ]
  },
  {
   "cell_type": "markdown",
   "metadata": {},
   "source": [
    "$$\n",
    "\\frac{d^2\\theta}{dt^2} + \\frac{g}{l}sin\\theta = 0\n",
    "$$"
   ]
  },
  {
   "cell_type": "markdown",
   "metadata": {},
   "source": [
    "위 상미분 방정식은 $\\theta$의 2계 미분과 $sin\\theta$ 를 포함하고 있다.<br>The ordinary differential equation above includes a second order derivative of $\\theta$ and $sin\\theta$."
   ]
  },
  {
   "cell_type": "markdown",
   "metadata": {},
   "source": [
    "여기서 $sin\\theta$ 는 비선형으로, 위 해당 식은 2계 비선형 상미분 방정식이다.<br>Here $sin\\theta$ is nonlinear; thus the equation above is a second order nonlinear ordinary differential equation."
   ]
  },
  {
   "cell_type": "markdown",
   "metadata": {},
   "source": [
    "해당 방정식을 풀기 위해 다음과 같이 $x_0$, $x_1$ 와 같은 상태변수를 도입하자.<br>To solve the equation, let's introduce state variables $x_0$ and $x_1$ as follows."
   ]
  },
  {
   "cell_type": "markdown",
   "metadata": {},
   "source": [
    "$$\n",
    "\\begin{cases}\n",
    "    x_0 = \\theta\\\\\n",
    "    x_1 = \\frac{d\\theta}{dt}  = \\frac{d}{dt}x_0\\\\\n",
    "\\end{cases}\n",
    "$$"
   ]
  },
  {
   "cell_type": "markdown",
   "metadata": {},
   "source": [
    "방정식의 각 항을 상태변수로 다시 써 보자.<br>Let's rewrite each term of the equation using the state variables."
   ]
  },
  {
   "cell_type": "markdown",
   "metadata": {},
   "source": [
    "$$\n",
    "\\begin{cases}\n",
    "    sin \\theta = sin x_0\\\\\n",
    "    \\frac{d^2\\theta}{dt^2} = \\frac{d}{dt} \\frac{d\\theta}{dt}= \\frac{d}{dt} x_1\\\\\n",
    "\\end{cases}\n",
    "$$"
   ]
  },
  {
   "cell_type": "markdown",
   "metadata": {},
   "source": [
    "다시 방정식에 대입해 보자.<br>Let's substitute back to the equation."
   ]
  },
  {
   "cell_type": "markdown",
   "metadata": {},
   "source": [
    "$$\n",
    "\\frac{dx_1}{dt} + \\frac{g}{l}sinx_0 = 0 \\\\\n",
    "\\frac{dx_1}{dt} =- \\frac{g}{l}sinx_0\n",
    "$$"
   ]
  },
  {
   "cell_type": "markdown",
   "metadata": {},
   "source": [
    "$x_0$와 $x_1$의 미분을 살펴 보자.<br>Let's take a look at the derivatives of $x_0$ and $x_1$."
   ]
  },
  {
   "cell_type": "markdown",
   "metadata": {},
   "source": [
    "$$\n",
    "\\begin{pmatrix}\n",
    "    \\frac{dx_0}{dt}\\\\\n",
    "    \\frac{dx_1}{dt}\n",
    "\\end{pmatrix} \n",
    "=\n",
    "\\begin{pmatrix}\n",
    "    x_1\\\\\n",
    "    -\\frac{g}{l}sinx_0\n",
    "\\end{pmatrix} \n",
    "$$"
   ]
  },
  {
   "cell_type": "markdown",
   "metadata": {},
   "source": [
    "이를 python 함수로 구현해 보자.<br>Let's implement this in a python function."
   ]
  },
  {
   "cell_type": "code",
   "execution_count": null,
   "metadata": {},
   "outputs": [],
   "source": [
    "g_mpsps = 9.8\n",
    "l_m = 1\n",
    "\n",
    "def pendulum_NL(x, t):\n",
    "    \"\"\"\n",
    "    x: column vector of theta and d(theta)/dt\n",
    "    t: time value\n",
    "    \"\"\"\n",
    "    \n",
    "    return np.array([x[1], (-g_mpsps/l_m)*np.sin(x[0])])\n"
   ]
  },
  {
   "cell_type": "markdown",
   "metadata": {},
   "source": [
    "전진 오일러법을 적용해 보자.<br>Let's apply the Forward Euler Method."
   ]
  },
  {
   "cell_type": "code",
   "execution_count": null,
   "metadata": {},
   "outputs": [],
   "source": [
    "# Time step interval\n",
    "delta_t = 0.1\n",
    "\n",
    "# Time array\n",
    "t_sec_array = np.arange(0, 6 + delta_t*0.5, delta_t)\n",
    "\n",
    "# Initial state\n",
    "x_0 = np.array([np.deg2rad(10), 0])\n",
    "\n",
    "# *** ODE solver ***\n",
    "t_01, x_01 = forward_euler(pendulum_NL, t_sec_array, x_0)\n"
   ]
  },
  {
   "cell_type": "code",
   "execution_count": null,
   "metadata": {},
   "outputs": [],
   "source": [
    "py.plot(t_01, x_01, '.-', label='$\\Delta t=0.1$')\n",
    "\n",
    "py.axis('equal')\n",
    "\n",
    "py.xlabel('t(sec)')\n",
    "py.ylabel('x(m)')\n",
    "\n",
    "py.legend(loc=0)\n",
    "py.grid(True)\n"
   ]
  },
  {
   "cell_type": "markdown",
   "metadata": {},
   "source": [
    "위 근사해는 불안정해 보인다. $\\Delta t$를 줄여 보자.<br>The approximate solution looks unstable. Let's make $\\Delta t$ smaller."
   ]
  },
  {
   "cell_type": "code",
   "execution_count": null,
   "metadata": {},
   "outputs": [],
   "source": [
    "# Time step interval\n",
    "delta_t = 0.001\n",
    "\n",
    "# Time array\n",
    "t_sec_array = np.arange(0, 6 + delta_t*0.5, delta_t)\n",
    "\n",
    "# Initial state\n",
    "x_0 = np.array([np.deg2rad(10), 0])\n",
    "\n",
    "# *** ODE solver ***\n",
    "t_01, x_01 = forward_euler(pendulum_NL, t_sec_array, x_0)\n"
   ]
  },
  {
   "cell_type": "code",
   "execution_count": null,
   "metadata": {},
   "outputs": [],
   "source": [
    "py.plot(t_01, x_01, label=f'$\\Delta t={delta_t}$')\n",
    "\n",
    "py.axis('equal')\n",
    "\n",
    "py.xlabel('t(sec)')\n",
    "py.ylabel('x(m)')\n",
    "\n",
    "py.legend(loc=0)\n",
    "py.grid(True)\n"
   ]
  },
  {
   "cell_type": "code",
   "execution_count": null,
   "metadata": {},
   "outputs": [],
   "source": []
  }
 ],
 "metadata": {
  "kernelspec": {
   "display_name": "Python 3",
   "language": "python",
   "name": "python3"
  },
  "language_info": {
   "codemirror_mode": {
    "name": "ipython",
    "version": 3
   },
   "file_extension": ".py",
   "mimetype": "text/x-python",
   "name": "python",
   "nbconvert_exporter": "python",
   "pygments_lexer": "ipython3",
   "version": "3.6.4"
  }
 },
 "nbformat": 4,
 "nbformat_minor": 2
}
