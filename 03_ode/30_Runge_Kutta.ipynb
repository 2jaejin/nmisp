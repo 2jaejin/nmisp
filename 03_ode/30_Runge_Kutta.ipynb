{
 "cells": [
  {
   "cell_type": "code",
   "execution_count": null,
   "metadata": {},
   "outputs": [],
   "source": [
    "# 그래프, 수학 기능 추가\n",
    "# Add graph and math features\n",
    "import pylab as py\n",
    "import numpy as np\n",
    "import numpy.linalg as nl\n",
    "# 기호 연산 기능 추가\n",
    "# Add symbolic operation capability\n",
    "import sympy as sy"
   ]
  },
  {
   "cell_type": "code",
   "execution_count": null,
   "metadata": {},
   "outputs": [],
   "source": [
    "sy.init_printing()"
   ]
  },
  {
   "cell_type": "markdown",
   "metadata": {},
   "source": [
    "# 룽게-쿠타법 (RK4)<br>Runge-Kutta Method (RK4)"
   ]
  },
  {
   "cell_type": "markdown",
   "metadata": {},
   "source": [
    "전진 오일러법과 수정 오일러법은 $t=t_0$, $t=t_1$, ... 에서의 기울기만 사용하였다.<br>Forward Euler Method and Modified Euler Method used slopes at $t=t_0$, $t=t_1$, ... only."
   ]
  },
  {
   "cell_type": "markdown",
   "metadata": {},
   "source": [
    "룽게-쿠타 법은 1900년대에 독일 수학자 칼 룽게와 마틴 쿠타가 공동 개발했던 상미분 방정식의 근사 해법의 모음이다.<br>Runge-Kutta methods are a group of numerical methods to solve ordinary differential equations that two German mathematicians Carl Runge and Martin Kutta developed in 1900s."
   ]
  },
  {
   "cell_type": "markdown",
   "metadata": {},
   "source": [
    "실은 전진 오일러법이나 수정 오일러법도 룽게-쿠타법에 포함된다.<br>In fact, Forward Euler method or Modified Euler method are included in the Runge-Kutta method."
   ]
  },
  {
   "cell_type": "markdown",
   "metadata": {},
   "source": [
    "룽게-쿠타법 가운데 **RK4**가 가장 널리 사용된다.<br>Among the Runge-Kutta methods, **RK4** is used the most frequently."
   ]
  },
  {
   "cell_type": "markdown",
   "metadata": {},
   "source": [
    "**RK4** 는 $t=t_1$ 에서의 해를 구하기 위해 $t=t_0$, $t=\\frac{1}{2}\\left(t_0+t_1\\right)$, $t=t_1$ 에서의 기울기를 사용한다.<br>\n",
    "To find a solution at $t=t_1$, **RK4** uses slopes at $t=t_0$, $t=\\frac{1}{2}\\left(t_0+t_1\\right)$, and $t=t_1$."
   ]
  },
  {
   "cell_type": "markdown",
   "metadata": {},
   "source": [
    "$$\n",
    "\\begin{cases}\n",
    "    \\frac{d}{dt}\\mathbf{x}=f(\\mathbf{x}, t) \\\\\n",
    "    \\mathbf{x}(t_0)=\\mathbf{x}_0\n",
    "\\end{cases}\n",
    "$$"
   ]
  },
  {
   "cell_type": "markdown",
   "metadata": {},
   "source": [
    "위 미분방정식의 경우, 절차는 다음과 같다.<br>\n",
    "For the differential equation above, the procedure is as follows."
   ]
  },
  {
   "cell_type": "markdown",
   "metadata": {},
   "source": [
    "1. $t=t_0$ 에서의 기울기 $s_1=f(\\mathbf{x}_0, t_0)$을 구한다.<br>\n",
    "At $t=t_0$, find the slope $s_1=f(\\mathbf{x}_0, t_0)$.\n",
    "1. $t=t_\\frac{1}{2}$ 에서의 기울기 $s_2=f(\\mathbf{x}_0 + s_1 t_{\\frac{1}{2}}, t_{\\frac{1}{2}})$을 구한다.<br>\n",
    "At $t=t_\\frac{1}{2}$, find the slope $s_2=f(\\mathbf{x}_0 + s_1 t_{\\frac{1}{2}}, t_{\\frac{1}{2}})$.\n",
    "1. 다시 한번, $t=t_\\frac{1}{2}$ 에서의 기울기 $s_3=f(\\mathbf{x}_0 + s_2 t_{\\frac{1}{2}}, t_{\\frac{1}{2}})$을 구한다.<br>\n",
    "Once again, at $t=t_\\frac{1}{2}$, find the slope $s_3=f(\\mathbf{x}_0 + s_2 t_{\\frac{1}{2}}, t_{\\frac{1}{2}})$.\n",
    "1. $t=t_1$ 에서의 기울기 $s_4=f(\\mathbf{x}_0 + s_3 t_1, t_1)$을 구한다.<br>\n",
    "At $t=t_1$, find the slope $s_4=f(\\mathbf{x}_0 + s_3 t_1, t_1)$.\n"
   ]
  },
  {
   "cell_type": "code",
   "execution_count": null,
   "metadata": {},
   "outputs": [],
   "source": []
  }
 ],
 "metadata": {
  "kernelspec": {
   "display_name": "Python 3",
   "language": "python",
   "name": "python3"
  },
  "language_info": {
   "codemirror_mode": {
    "name": "ipython",
    "version": 3
   },
   "file_extension": ".py",
   "mimetype": "text/x-python",
   "name": "python",
   "nbconvert_exporter": "python",
   "pygments_lexer": "ipython3",
   "version": "3.6.5"
  }
 },
 "nbformat": 4,
 "nbformat_minor": 2
}
