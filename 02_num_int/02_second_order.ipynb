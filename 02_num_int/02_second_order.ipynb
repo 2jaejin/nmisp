{
 "cells": [
  {
   "cell_type": "code",
   "execution_count": null,
   "metadata": {},
   "outputs": [],
   "source": [
    "# 그래프, 수학 기능 추가\n",
    "# Add graph and math features\n",
    "import pylab as py\n",
    "import numpy as np\n",
    "import numpy.linalg as nl\n",
    "# 기호 연산 기능 추가\n",
    "# Add symbolic operation capability\n",
    "import sympy as sy"
   ]
  },
  {
   "cell_type": "code",
   "execution_count": null,
   "metadata": {},
   "outputs": [],
   "source": [
    "sy.init_printing()"
   ]
  },
  {
   "cell_type": "markdown",
   "metadata": {},
   "source": [
    "# 2차 적분<br>Second Order Numerical Integral"
   ]
  },
  {
   "cell_type": "markdown",
   "metadata": {},
   "source": [
    "다시 반지름 $r$, 면적 $a$ 인 반원을 생각해 보자.<br>\n",
    "Again, let's think about a half circle with radius & area of $r$ & $a$ respectively."
   ]
  },
  {
   "cell_type": "code",
   "execution_count": null,
   "metadata": {},
   "outputs": [],
   "source": [
    "r, a = sy.symbols('r, a', nonnegative=True)"
   ]
  },
  {
   "cell_type": "code",
   "execution_count": null,
   "metadata": {},
   "outputs": [],
   "source": [
    "eq_circle_area = sy.Eq(sy.pi * r * r , 2 * a)"
   ]
  },
  {
   "cell_type": "code",
   "execution_count": null,
   "metadata": {},
   "outputs": [],
   "source": [
    "eq_circle_area"
   ]
  },
  {
   "cell_type": "markdown",
   "metadata": {},
   "source": [
    "이러한 원의 반지름의 제곱을 생각해 보자.<br>\n",
    "Let's think about the square of the radius of such circle."
   ]
  },
  {
   "cell_type": "code",
   "execution_count": null,
   "metadata": {},
   "outputs": [],
   "source": [
    "r_square_sol = sy.solve(eq_circle_area, r**2)[0]"
   ]
  },
  {
   "cell_type": "code",
   "execution_count": null,
   "metadata": {},
   "outputs": [],
   "source": [
    "r_square_sol"
   ]
  },
  {
   "cell_type": "markdown",
   "metadata": {},
   "source": [
    "이 결과를 이용해서 함수로 반원을 구현해 보자.<br>\n",
    "Using this result, let's implement the half circle in a function."
   ]
  },
  {
   "cell_type": "code",
   "execution_count": null,
   "metadata": {},
   "outputs": [],
   "source": [
    "def half_circle(x, half_circle_area=1.0):\n",
    "    return py.sqrt(np.abs(2 * half_circle_area / py.pi - x**2))\n"
   ]
  },
  {
   "cell_type": "markdown",
   "metadata": {},
   "source": [
    "$a=1$인 경우 $r$ 값을 계산해 보면 다음과 같다.<br>\n",
    "We can also find the value of $r$ such that $a=1$ as follows."
   ]
  },
  {
   "cell_type": "code",
   "execution_count": null,
   "metadata": {},
   "outputs": [],
   "source": [
    "r = float(sy.N(r_square_sol.subs(a, 1.0))) ** 0.5"
   ]
  },
  {
   "cell_type": "code",
   "execution_count": null,
   "metadata": {},
   "outputs": [],
   "source": [
    "r"
   ]
  },
  {
   "cell_type": "code",
   "execution_count": null,
   "metadata": {},
   "outputs": [],
   "source": [
    "type(r)"
   ]
  },
  {
   "cell_type": "markdown",
   "metadata": {},
   "source": [
    "이 함수를 이용하여 반원을 그려 보자.<br>\n",
    "Using this function, let's plot a half circle."
   ]
  },
  {
   "cell_type": "code",
   "execution_count": null,
   "metadata": {
    "scrolled": false
   },
   "outputs": [],
   "source": [
    "x_array = py.linspace(-r, r)\n",
    "y_plus = half_circle(x_array)\n",
    "\n",
    "py.fill_between(x_array, y_plus)\n",
    "\n",
    "py.axis('equal')\n",
    "py.grid(True)\n"
   ]
  },
  {
   "cell_type": "markdown",
   "metadata": {},
   "source": [
    "이번에는 3 지점에서의 함수값을 이용하는 심슨규칙을 이용해서 구해 보기로 하자.<br>\n",
    "This time, let's integrate by the Simpson's rule using function values at three points."
   ]
  },
  {
   "cell_type": "markdown",
   "metadata": {},
   "source": [
    "## 심슨 규칙<br>Simpson's Rule"
   ]
  },
  {
   "cell_type": "markdown",
   "metadata": {},
   "source": [
    "마찬가지로 일정 간격으로 $x$ 좌표를 나누어 보자.<br>\n",
    "Same as before, let's divide $x$ coordinates in a constant interval."
   ]
  },
  {
   "cell_type": "code",
   "execution_count": null,
   "metadata": {
    "scrolled": true
   },
   "outputs": [],
   "source": [
    "d = r * 2.0\n",
    "\n",
    "n = 10\n",
    "\n",
    "x_interval = d / n\n",
    "\n",
    "# 도 단위의 theta = 180, 179, ..., 0\n",
    "# theta in deg = 180, 179, ..., 0\n",
    "theta_deg_array = py.arange(180, -0.5, -1)\n",
    "# theta 를 radian 단위로 바꿈\n",
    "# theta in radians\n",
    "theta_rad_array = py.deg2rad(theta_deg_array)\n",
    "\n",
    "x_array = r * py.cos(theta_rad_array)\n",
    "y_plus = half_circle(x_array)\n",
    "\n",
    "x_array_bar = py.arange(-r, r+x_interval*0.1, x_interval)\n",
    "y_array_bar = half_circle(x_array_bar)\n",
    "x_interval = x_array_bar[1]-x_array_bar[0]\n",
    "\n",
    "py.plot(x_array, y_plus)\n",
    "py.plot(x_array_bar, y_array_bar, '.')\n",
    "\n",
    "py.axis('equal')\n",
    "py.grid(True)\n"
   ]
  },
  {
   "cell_type": "markdown",
   "metadata": {},
   "source": [
    "마지막 두 구간을 생각해 보기로 하자.<br>\n",
    "Let's just think about the last two segments."
   ]
  },
  {
   "cell_type": "code",
   "execution_count": null,
   "metadata": {},
   "outputs": [],
   "source": [
    "d = r * 2.0\n",
    "\n",
    "n = 10\n",
    "\n",
    "x_interval = d / n\n",
    "\n",
    "# 도 단위의 theta = 180, 179, ..., 0\n",
    "# theta in deg = 180, 179, ..., 0\n",
    "theta_deg_array = py.arange(180, -0.5, -1)\n",
    "# theta 를 radian 단위로 바꿈\n",
    "# theta in radians\n",
    "theta_rad_array = py.deg2rad(theta_deg_array)\n",
    "\n",
    "x_array = r * py.cos(theta_rad_array)\n",
    "y_plus = half_circle(x_array)\n",
    "\n",
    "x_array_bar = py.arange(-r, r+x_interval*0.1, x_interval)\n",
    "y_array_bar = half_circle(x_array_bar)\n",
    "x_interval = x_array_bar[1]-x_array_bar[0]\n",
    "\n",
    "# 마지막 두 구간에 해당하는 x y 값을 선택\n",
    "# Choose x y values of the last two intervals\n",
    "x_last_two_array = x_array[x_array_bar[-3] < x_array]\n",
    "y_last_two_array = y_plus[x_array_bar[-3] < x_array]\n",
    "\n",
    "py.plot(x_array, y_plus, alpha=0.5)\n",
    "py.plot(x_array_bar, y_array_bar, '.')\n",
    "py.fill_between(x_last_two_array, y_last_two_array)\n",
    "\n",
    "py.axis('equal')\n",
    "py.grid(True)\n"
   ]
  },
  {
   "cell_type": "markdown",
   "metadata": {},
   "source": [
    "해당 넓이를 구하기 위해, 이 세 점을 지나는 2차 다항식을 찾아서 적분할 수 있을 것이다<br>\n",
    "To get the area, we would be able to find a second order polynomal passing through these three points and integrate."
   ]
  },
  {
   "cell_type": "markdown",
   "metadata": {},
   "source": [
    "문제를 좀 더 쉽게 만들기 위해 해당 면적을 원점 주위로 평행 이동 시켜 보자.<br>\n",
    "To make the problem simpler, let's translate the area around the origin."
   ]
  },
  {
   "cell_type": "code",
   "execution_count": null,
   "metadata": {},
   "outputs": [],
   "source": [
    "d = r * 2.0\n",
    "\n",
    "n = 10\n",
    "\n",
    "x_interval = d / n\n",
    "\n",
    "# 도 단위의 theta = 180, 179, ..., 0\n",
    "# theta in deg = 180, 179, ..., 0\n",
    "theta_deg_array = py.arange(180, -0.5, -1)\n",
    "# theta 를 radian 단위로 바꿈\n",
    "# theta in radians\n",
    "theta_rad_array = py.deg2rad(theta_deg_array)\n",
    "\n",
    "x_array = r * py.cos(theta_rad_array)\n",
    "y_plus = half_circle(x_array)\n",
    "\n",
    "x_array_bar = py.arange(-r, r+x_interval*0.1, x_interval)\n",
    "y_array_bar = half_circle(x_array_bar)\n",
    "x_interval = x_array_bar[1]-x_array_bar[0]\n",
    "\n",
    "# 마지막 두 구간에 해당하는 x y 값을 선택\n",
    "# Choose x y values of the last two intervals\n",
    "x_last_two_array = x_array[x_array_bar[-3] < x_array]\n",
    "y_last_two_array = y_plus[x_array_bar[-3] < x_array]\n",
    "\n",
    "py.plot(x_array, y_plus, alpha=0.0)\n",
    "py.plot(x_array_bar[-3:], y_array_bar[-3:], '.')\n",
    "\n",
    "# 마지막 두 구간을 표시\n",
    "# Indicate last two intervals\n",
    "py.fill_between(x_last_two_array, y_last_two_array)\n",
    "\n",
    "# 평행이동한 면적\n",
    "# Translated Area\n",
    "py.plot(x_array_bar[-3:]-x_array_bar[-2], y_array_bar[-3:], '.')\n",
    "py.fill_between(x_last_two_array-x_array_bar[-2], y_last_two_array)\n",
    "\n",
    "# x 좌표 표시\n",
    "# Indicate x coordinates\n",
    "py.text(-x_interval, -0.1, '$-\\Delta x$', horizontalalignment='center')\n",
    "py.text(x_interval, -0.1, '$+\\Delta x$', horizontalalignment='center')\n",
    "\n",
    "# y 좌표 표시\n",
    "# Indicate x coordinates\n",
    "py.text(-x_interval, y_array_bar[-3], '$y_-$', horizontalalignment='center', verticalalignment='bottom')\n",
    "py.text(          0, y_array_bar[-2], '$y_0$', horizontalalignment='center', verticalalignment='bottom')\n",
    "py.text(+x_interval, y_array_bar[-1], '$y_+$', horizontalalignment='center', verticalalignment='bottom')\n",
    "\n",
    "py.axis('equal')\n",
    "py.grid(True)\n"
   ]
  },
  {
   "cell_type": "code",
   "execution_count": null,
   "metadata": {},
   "outputs": [],
   "source": []
  }
 ],
 "metadata": {
  "kernelspec": {
   "display_name": "Python 3",
   "language": "python",
   "name": "python3"
  },
  "language_info": {
   "codemirror_mode": {
    "name": "ipython",
    "version": 3
   },
   "file_extension": ".py",
   "mimetype": "text/x-python",
   "name": "python",
   "nbconvert_exporter": "python",
   "pygments_lexer": "ipython3",
   "version": "3.6.4"
  }
 },
 "nbformat": 4,
 "nbformat_minor": 2
}
