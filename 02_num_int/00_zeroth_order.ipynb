{
 "cells": [
  {
   "cell_type": "code",
   "execution_count": null,
   "metadata": {},
   "outputs": [],
   "source": [
    "# 그래프, 수학 기능 추가\n",
    "# Add graph and math features\n",
    "import pylab as py"
   ]
  },
  {
   "cell_type": "markdown",
   "metadata": {},
   "source": [
    "# 수치 적분<br>Numerical Integration"
   ]
  },
  {
   "cell_type": "markdown",
   "metadata": {},
   "source": [
    "면적이 2인 원의 반지름을 구해 보자.<br>Let's find the radius of a circle with area of 2."
   ]
  },
  {
   "cell_type": "markdown",
   "metadata": {},
   "source": [
    "$$\n",
    "\\begin{align}\n",
    "    \\pi r^2 &= 2 \\\\\n",
    "    r^2 &= \\frac{2}{\\pi} \\\\\n",
    "    r &= \\sqrt{\\frac{2}{\\pi}}\n",
    "\\end{align}\n",
    "$$"
   ]
  },
  {
   "cell_type": "code",
   "execution_count": null,
   "metadata": {},
   "outputs": [],
   "source": [
    "r = py.sqrt(2.0 / py.pi)\n"
   ]
  },
  {
   "cell_type": "code",
   "execution_count": null,
   "metadata": {},
   "outputs": [],
   "source": [
    "r\n"
   ]
  },
  {
   "cell_type": "markdown",
   "metadata": {},
   "source": [
    "이러한 원의 중심이 원점에 위치하고 있다고 생각해 보자.<br>Let's assume that a circle of such radius has its center at the origin."
   ]
  },
  {
   "cell_type": "markdown",
   "metadata": {},
   "source": [
    "$$\n",
    "x^2 + y^2 = r^2 \\\\\n",
    "y^2 = r^2 - x^2 \\\\\n",
    "y = \\pm \\sqrt{r^2 - x^2}\n",
    "$$"
   ]
  },
  {
   "cell_type": "code",
   "execution_count": null,
   "metadata": {},
   "outputs": [],
   "source": [
    "x_array = py.linspace(-r, r)\n",
    "y_plus = py.sqrt(r**2 - x_array ** 2)\n",
    "y_minus = -py.sqrt(r**2 - x_array ** 2)\n",
    "\n",
    "py.plot(x_array, y_plus)\n",
    "py.plot(x_array, y_minus)\n",
    "\n",
    "py.axis('equal')\n",
    "py.grid(True)\n"
   ]
  },
  {
   "cell_type": "markdown",
   "metadata": {},
   "source": [
    "$+$ 부분만 생각하기로 하자.<br>Let's just think about the $+$ side only."
   ]
  },
  {
   "cell_type": "markdown",
   "metadata": {},
   "source": [
    "$$\n",
    "y = \\sqrt{r^2 - x^2}\n",
    "$$"
   ]
  },
  {
   "cell_type": "code",
   "execution_count": null,
   "metadata": {
    "scrolled": false
   },
   "outputs": [],
   "source": [
    "x_array = py.linspace(-r, r)\n",
    "y_plus = py.sqrt(r**2 - x_array ** 2)\n",
    "\n",
    "py.fill_between(x_array, y_plus)\n",
    "\n",
    "py.axis('equal')\n",
    "py.grid(True)\n"
   ]
  },
  {
   "cell_type": "code",
   "execution_count": null,
   "metadata": {},
   "outputs": [],
   "source": []
  }
 ],
 "metadata": {
  "kernelspec": {
   "display_name": "Python 3",
   "language": "python",
   "name": "python3"
  },
  "language_info": {
   "codemirror_mode": {
    "name": "ipython",
    "version": 3
   },
   "file_extension": ".py",
   "mimetype": "text/x-python",
   "name": "python",
   "nbconvert_exporter": "python",
   "pygments_lexer": "ipython3",
   "version": "3.6.4"
  }
 },
 "nbformat": 4,
 "nbformat_minor": 2
}
