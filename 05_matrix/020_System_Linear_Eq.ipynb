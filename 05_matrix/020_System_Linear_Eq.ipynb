{
 "cells": [
  {
   "cell_type": "code",
   "execution_count": null,
   "metadata": {},
   "outputs": [],
   "source": [
    "# 그래프, 수학 기능 추가\n",
    "# Add graph and math features\n",
    "import pylab as py\n",
    "import numpy as np\n",
    "import numpy.linalg as nl\n",
    "# 기호 연산 기능 추가\n",
    "# Add symbolic operation capability\n",
    "import sympy as sy"
   ]
  },
  {
   "cell_type": "markdown",
   "metadata": {},
   "source": [
    "다음과 같은 트러스를 생각해 보자.<br>\n",
    "Let's think about a truss as follows.<br>\n",
    "(ref: \"[Application of system of linear equations](https://www.chegg.com/homework-help/questions-and-answers/application-system-linear-equations-sure-work-matlab-problem-figure-1-shows-mechanical-str-q22676917)\", Chegg Study)"
   ]
  },
  {
   "cell_type": "markdown",
   "metadata": {},
   "source": [
    "![alt text](https://d2vlcm61l7u1fs.cloudfront.net/media%2F1e6%2F1e67532c-1ca4-43b6-95bd-e0926e751b34%2Fphpz020E9.png \"Truss\")"
   ]
  },
  {
   "cell_type": "markdown",
   "metadata": {},
   "source": [
    "모든 각은 45도 이다.<br>\n",
    "All angles are 45 degrees."
   ]
  },
  {
   "cell_type": "markdown",
   "metadata": {},
   "source": [
    "각 마디에서의 힘의 평형은 다음과 같다.<br>\n",
    "Force equilibrium equations at respective nodes are as follows."
   ]
  },
  {
   "cell_type": "markdown",
   "metadata": {},
   "source": [
    "![alt text](https://d2vlcm61l7u1fs.cloudfront.net/media%2Fff1%2Fff175bd1-3c4c-45bb-a997-30340bb30d1f%2FphpYdenAX.png \"Equations\")"
   ]
  },
  {
   "cell_type": "markdown",
   "metadata": {},
   "source": [
    "미지수 17개를 모두 써서 표시하면 다음과 같을 것이다.<br>\n",
    "Using all 17 unknowns, the equations would be as follows."
   ]
  },
  {
   "cell_type": "markdown",
   "metadata": {},
   "source": [
    "$$\n",
    "\\begin{align}\n",
    "    -\\alpha \\cdot f_1+0 \\cdot f_2 + 0 \\cdot f_3 + 1 \\cdot f_4 + \\alpha \\cdot f_5 + 0 \\cdot f_6 + 0 \\cdot f_7 + 0 \\cdot f_8 + 0 \\cdot f_9 + 0 \\cdot f_{10} + 0 \\cdot f_{11} + 0 \\cdot f_{12} + 0 \\cdot f_{13} + 0 \\cdot f_{14} + 0 \\cdot f_{15} + 0 \\cdot f_{16} + 0 \\cdot f_{17}=0\n",
    "\\end{align}\n",
    "$$"
   ]
  },
  {
   "cell_type": "code",
   "execution_count": null,
   "metadata": {},
   "outputs": [],
   "source": []
  }
 ],
 "metadata": {
  "kernelspec": {
   "display_name": "Python 3",
   "language": "python",
   "name": "python3"
  },
  "language_info": {
   "codemirror_mode": {
    "name": "ipython",
    "version": 3
   },
   "file_extension": ".py",
   "mimetype": "text/x-python",
   "name": "python",
   "nbconvert_exporter": "python",
   "pygments_lexer": "ipython3",
   "version": "3.6.5"
  }
 },
 "nbformat": 4,
 "nbformat_minor": 2
}
