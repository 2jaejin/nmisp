{
 "cells": [
  {
   "cell_type": "code",
   "execution_count": null,
   "metadata": {},
   "outputs": [],
   "source": [
    "# 그래프, 수학 기능 추가\n",
    "# Add graph and math features\n",
    "import pylab as py\n",
    "import numpy as np\n",
    "import numpy.linalg as nl\n",
    "# 기호 연산 기능 추가\n",
    "# Add symbolic operation capability\n",
    "import sympy as sy"
   ]
  },
  {
   "cell_type": "markdown",
   "metadata": {},
   "source": [
    "# 가우스 소거법 : 선형 연립방정식의 풀이<br>Gauss Elimiation : Solving a System of Linear Equations"
   ]
  },
  {
   "cell_type": "markdown",
   "metadata": {},
   "source": [
    "화살표를 그리는 함수<br>Function to draw an arrow"
   ]
  },
  {
   "cell_type": "code",
   "execution_count": null,
   "metadata": {},
   "outputs": [],
   "source": [
    "def draw_2dvec(x, y, x0=0, y0=0, color='k', name=None):\n",
    "    py.quiver(x0, y0, x, y, color=color, angles='xy', scale_units='xy', scale=1)\n",
    "    if name is not None:\n",
    "        if not name.startswith('$'):\n",
    "            vec_str = '$\\\\vec{%s}$' % name\n",
    "        else:\n",
    "            vec_str = name\n",
    "        py.text(0.5 * x + x0, 0.5 * y + y0, vec_str)"
   ]
  },
  {
   "cell_type": "markdown",
   "metadata": {},
   "source": [
    "정삼각형을 그리는 함수<br>Function to draw an equilateral triangle"
   ]
  },
  {
   "cell_type": "code",
   "execution_count": null,
   "metadata": {},
   "outputs": [],
   "source": [
    "def triangle_support(x, y, length):\n",
    "    # https://matplotlib.org/gallery/lines_bars_and_markers/fill.html\n",
    "    height = py.cos(py.radians(30)) * length\n",
    "    py.fill((x, x + length*0.5, x + length*-0.5), (y, y - height, y - height))"
   ]
  },
  {
   "cell_type": "markdown",
   "metadata": {},
   "source": [
    "## 트러스 예제<br>Example of a Truss"
   ]
  },
  {
   "cell_type": "markdown",
   "metadata": {},
   "source": [
    "다음과 같은 트러스를 생각해 보자.<br>\n",
    "Let's think about a truss as follows.<br>\n",
    "(ref: \"[Application of system of linear equations](https://www.chegg.com/homework-help/questions-and-answers/application-system-linear-equations-sure-work-matlab-problem-figure-1-shows-mechanical-str-q22676917)\", Chegg Study)"
   ]
  },
  {
   "cell_type": "code",
   "execution_count": null,
   "metadata": {},
   "outputs": [],
   "source": [
    "# 마디점 좌표 nodal point coordinates\n",
    "xy_list = [(0, 0), (1, 3**0.5), (2, 0), (3, 3**0.5), (4, 0)]\n",
    "\n",
    "# 각 부재의 양 끝 점 end points of each member\n",
    "connectivity_list = [(0, 1), (0, 2), (1, 2), (1, 3), (2, 3), (2, 4), (3, 4)]\n",
    "\n",
    "for k, i_j in enumerate(connectivity_list):\n",
    "    i, j = i_j\n",
    "\n",
    "    py.plot(\n",
    "        (xy_list[i][0], xy_list[j][0]),\n",
    "        (xy_list[i][1], xy_list[j][1]),\n",
    "        '.-'\n",
    "    )\n",
    "\n",
    "    # 부재 번호 표시 Indicate member id\n",
    "    py.text(0.5 * (xy_list[i][0] + xy_list[j][0]), \n",
    "            0.5 * (xy_list[i][1] + xy_list[j][1]), k + 1)\n",
    "\n",
    "# 마디점 번호 표시 Indicate node ids\n",
    "for k, xy in enumerate(xy_list):\n",
    "    py.text(xy[0], xy[1], '(%d)' % (k+1))\n",
    "    \n",
    "draw_2dvec(0, -0.5, xy_list[1][0], xy_list[1][1], name='$F_2$')\n",
    "draw_2dvec(0, -0.5, xy_list[3][0], xy_list[3][1], name='$F_4$')\n",
    "\n",
    "triangle_support(xy_list[0][0], xy_list[0][1], 0.25)\n",
    "triangle_support(xy_list[4][0], xy_list[4][1], 0.25)\n",
    "\n",
    "py.axis('equal')\n",
    "py.xlim((-2, 6))\n",
    "py.ylim((-1, 2))\n",
    "# https://stackoverflow.com/questions/9295026/matplotlib-plots-removing-axis-legends-and-white-spaces\n",
    "py.axis('off')\n",
    "\n",
    "py.show()\n"
   ]
  },
  {
   "cell_type": "markdown",
   "metadata": {},
   "source": [
    "모든 부재의 길이는 2m 이다.<br>\n",
    "All members have length of 2m."
   ]
  },
  {
   "cell_type": "markdown",
   "metadata": {},
   "source": [
    "우선, 전체 반력을 계산한다.<br>First of all, calculate the reaction force."
   ]
  },
  {
   "cell_type": "markdown",
   "metadata": {},
   "source": [
    "$$\n",
    "\\left\\{\n",
    "    \\begin{align}\n",
    "        R_{1x}+\\sum F_x = 0 \\\\\n",
    "        R_{1y}+R_{5y}+\\sum F_y = 0 \\\\\n",
    "        x_5 \\cdot R_{5y}+\\sum x \\cdot F_y = 0 \\\\\n",
    "    \\end{align}\n",
    "\\right.\n",
    "$$"
   ]
  },
  {
   "cell_type": "markdown",
   "metadata": {},
   "source": [
    "알고 있는 상수를 오른쪽으로 옮기도록 하자.<br>Let's move known constants to the right side."
   ]
  },
  {
   "cell_type": "markdown",
   "metadata": {},
   "source": [
    "$$\n",
    "\\left\\{\n",
    "    \\begin{align}\n",
    "        R_{1x} &= 0 \\\\\n",
    "        R_{1y}+R_{5y} &= - F_{2y} - F_{4y} \\\\\n",
    "        x_5 \\cdot R_{5y} &= - x_2 \\cdot F_{2y} - x_5 \\cdot F_{5y} \\\\\n",
    "    \\end{align}\n",
    "\\right.\n",
    "$$"
   ]
  },
  {
   "cell_type": "markdown",
   "metadata": {},
   "source": [
    "### 후진대입 예<br>An example of back substitution"
   ]
  },
  {
   "cell_type": "markdown",
   "metadata": {},
   "source": [
    "#### 첫번째 해<br>First solution"
   ]
  },
  {
   "cell_type": "markdown",
   "metadata": {},
   "source": [
    "$y$ 방향 반력에 관한 식만 살펴 보자.<br>Let's take a look at the equations about reaction forces in $y$ direction."
   ]
  },
  {
   "cell_type": "markdown",
   "metadata": {},
   "source": [
    "$$\n",
    "\\left\\{\n",
    "    \\begin{align}\n",
    "        1 \\cdot R_{1y}+1 \\cdot R_{5y} &= - F_{2y} - F_{4y} \\\\\n",
    "        0 \\cdot R_{1y}+x_5 \\cdot R_{5y} &= - x_2 \\cdot F_{2y} - x_5 \\cdot F_{5y} \\\\\n",
    "    \\end{align}\n",
    "\\right.\n",
    "$$"
   ]
  },
  {
   "cell_type": "markdown",
   "metadata": {},
   "source": [
    "아래 방정식에서는 하나의 미지수는 계수가 0이고 다른 하나는 0이 아니다.<br>\n",
    "In the lower equation, one unknown has coefficient 0 and the other non-zero."
   ]
  },
  {
   "cell_type": "markdown",
   "metadata": {},
   "source": [
    "여기서 계수가 0이 아닌 미지수는 해당 계수로 우변을 나누면 쉽게 알 수 있다.<br>Here, we can easily find the unknown with non-zero coefficient by dividing the right side with the coefficient."
   ]
  },
  {
   "cell_type": "markdown",
   "metadata": {},
   "source": [
    "$$\n",
    "R_{5y} = \\frac{1}{x_5} \\left( - x_2 \\cdot F_{2y} - x_5 \\cdot F_{5y}  \\right)\n",
    "$$"
   ]
  },
  {
   "cell_type": "markdown",
   "metadata": {},
   "source": [
    "이제 이 반력은 알려진 상수 이다.<br>Now this reaction force is a known constant."
   ]
  },
  {
   "cell_type": "markdown",
   "metadata": {},
   "source": [
    "다른 미지수를 구하기 위해 이를 이용할 수 있다.<br>We can use this to find other unknown(s)."
   ]
  },
  {
   "cell_type": "markdown",
   "metadata": {},
   "source": [
    "#### 두번째 해<br>Second solution"
   ]
  },
  {
   "cell_type": "markdown",
   "metadata": {},
   "source": [
    "첫번째 식을 살펴 보자. $R_{5y}$는 알고 있는 값이므로 오른쪽으로 옮긴다. <br>Let's look at the first equation. Because we know $R_{5y}$, let's move to the right side."
   ]
  },
  {
   "cell_type": "markdown",
   "metadata": {},
   "source": [
    "$$\n",
    "1 \\cdot R_{1y} = - 1 \\cdot R_{5y} - F_{2y} - F_{4y}\n",
    "$$"
   ]
  },
  {
   "cell_type": "markdown",
   "metadata": {},
   "source": [
    "$$\n",
    "R_{1y} =\\frac{1}{1} \\left(- 1 \\cdot R_{5y} - F_{2y} - F_{4y}\\right)\n",
    "$$"
   ]
  },
  {
   "cell_type": "markdown",
   "metadata": {},
   "source": [
    "이렇게 해서 모든 반력을 구할 수 있다.<br>This way, we can find all the reaction forces."
   ]
  },
  {
   "cell_type": "markdown",
   "metadata": {},
   "source": [
    "이렇게 먼저 알아낸 미지수 값을 이용하여 다른 미지수 값을 찾는 것을 **후진대입법**이라고 한다.<br> **Back subsitution** uses a solution found in advance to find other solutions."
   ]
  },
  {
   "cell_type": "markdown",
   "metadata": {},
   "source": [
    "Gauss 소거법은 이 후진대입법을 적용하기 좋은 형태로 계수 행렬을 변형시킨다.<br>\n",
    "Gauss elimination would make the coefficient matrix suitable for the back substitution."
   ]
  },
  {
   "cell_type": "markdown",
   "metadata": {},
   "source": [
    "각 마디에서의 힘의 평형은 다음과 같다.<br>\n",
    "Force equilibrium equations at respective nodes are as follows."
   ]
  },
  {
   "cell_type": "markdown",
   "metadata": {},
   "source": [
    "$$\n",
    "\\begin{align}    \n",
    "    \\alpha = sin\\left(\\frac{\\pi}{4}\\right) &= cos\\left(\\frac{\\pi}{4}\\right) \\\\\n",
    "    \\alpha \\cdot f_{1}+R_1 &= 0 \\\\\n",
    "    \\alpha \\cdot f_{1}+f_{2} &= 0 \\\\\n",
    "    -\\alpha \\cdot f_{1}+\\alpha \\cdot f_{4} &=0 \\\\\n",
    "    \\alpha \\cdot f_{1}+f_{3}+\\alpha \\cdot f_{4} &=0 \\\\    \n",
    "    -f_{2}+f_{5}&=0 \\\\    \n",
    "    f_{3}+F_{1}&=0 \\\\    \n",
    "    \\alpha \\cdot f_4 + R_4 &=0 \\\\\n",
    "    \\alpha \\cdot f_4 + f_5 &=0\n",
    "\\end{align}\n",
    "$$"
   ]
  },
  {
   "cell_type": "markdown",
   "metadata": {},
   "source": [
    "행렬형태로는:<br>\n",
    "In matrix form:"
   ]
  },
  {
   "cell_type": "markdown",
   "metadata": {},
   "source": [
    "$$\n",
    "\\begin{bmatrix}\n",
    "\\alpha & 0 & 0 & 0 & 0 & 1 & 0\\\\\n",
    "\\alpha & 1 & 0 & 0 & 0 & 0 & 0\\\\\n",
    "-\\alpha & 0 & 0 & \\alpha & 0 & 0 & 0\\\\\n",
    "\\alpha & 0 & 1 & \\alpha & 0 & 0 & 0\\\\\n",
    "0 & -1 & 0 & 0 & 1 & 0 & 0\\\\\n",
    "0 & 0 & 1 & 0 & 0 & 0 & 0\\\\\n",
    "0 & 0 & 0 & \\alpha & 0 & 0 & -1\\\\\n",
    "0 & 0 & 0 & \\alpha & 1 & 0 & 0\\\\\n",
    "\\end{bmatrix}\n",
    "\\begin{pmatrix}\n",
    "f_1 \\\\ f_2 \\\\ f_3 \\\\ f_4 \\\\ f_5 \\\\ R_1 \\\\ R_2\n",
    "\\end{pmatrix}\n",
    "=\n",
    "\\begin{pmatrix}\n",
    "0 \\\\ 0 \\\\ 0 \\\\ 0 \\\\ 0 \\\\ -F_1 \\\\ 0 \\\\ 0\n",
    "\\end{pmatrix}\n",
    "$$"
   ]
  },
  {
   "cell_type": "markdown",
   "metadata": {},
   "source": [
    "미지수는 7개이나 방정식은 8개로 과 구속 상태일 수도 있다.<br>\n",
    "We have 7 unknowns but 8 equations; this may imply overconstrained status."
   ]
  },
  {
   "cell_type": "code",
   "execution_count": null,
   "metadata": {},
   "outputs": [],
   "source": [
    "alpha = py.sin(py.radians(30))"
   ]
  },
  {
   "cell_type": "code",
   "execution_count": null,
   "metadata": {},
   "outputs": [],
   "source": [
    "matrix = py.matrix([\n",
    "    [alpha, 0, 0, 0, 0, 1, 0],\n",
    "    [alpha, 1, 0, 0, 0, 1, 0],\n",
    "    [-alpha, 0, 0, alpha, 0, 0, 0],\n",
    "    [alpha, 0, 1, alpha, 0, 0, 0],\n",
    "    [0, -1, 0, 0, 1, 0, 0],\n",
    "    [0, 0, 1, 0, 0, 0, 0],\n",
    "    [0, 0, 0, alpha, 0, 0, -1],\n",
    "    [0, 0, 0, alpha, 1, 0, 0],\n",
    "])"
   ]
  },
  {
   "cell_type": "markdown",
   "metadata": {},
   "source": [
    "행렬의 계수를 계산해 보자.<br>Let's check the rank of the matrix."
   ]
  },
  {
   "cell_type": "code",
   "execution_count": null,
   "metadata": {},
   "outputs": [],
   "source": [
    "nl.matrix_rank(matrix)"
   ]
  },
  {
   "cell_type": "code",
   "execution_count": null,
   "metadata": {},
   "outputs": [],
   "source": [
    "vector = py.matrix([[0, 0, 0, 0, 0, -100, 0, 0]]).T"
   ]
  },
  {
   "cell_type": "code",
   "execution_count": null,
   "metadata": {
    "scrolled": true
   },
   "outputs": [],
   "source": [
    "sol = nl.lstsq(matrix, vector)"
   ]
  },
  {
   "cell_type": "code",
   "execution_count": null,
   "metadata": {},
   "outputs": [],
   "source": [
    "sol"
   ]
  },
  {
   "cell_type": "code",
   "execution_count": null,
   "metadata": {},
   "outputs": [],
   "source": [
    "help(nl.lstsq)"
   ]
  },
  {
   "cell_type": "code",
   "execution_count": null,
   "metadata": {},
   "outputs": [],
   "source": []
  }
 ],
 "metadata": {
  "kernelspec": {
   "display_name": "Python 3",
   "language": "python",
   "name": "python3"
  },
  "language_info": {
   "codemirror_mode": {
    "name": "ipython",
    "version": 3
   },
   "file_extension": ".py",
   "mimetype": "text/x-python",
   "name": "python",
   "nbconvert_exporter": "python",
   "pygments_lexer": "ipython3",
   "version": "3.6.5"
  }
 },
 "nbformat": 4,
 "nbformat_minor": 2
}
