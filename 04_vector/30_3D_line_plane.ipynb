{
 "cells": [
  {
   "cell_type": "code",
   "execution_count": null,
   "metadata": {},
   "outputs": [],
   "source": [
    "# 그래프, 수학 기능 추가\n",
    "# Add graph and math features\n",
    "import pylab as py\n",
    "import numpy as np\n",
    "import numpy.linalg as nl\n",
    "# 기호 연산 기능 추가\n",
    "# Add symbolic operation capability\n",
    "import sympy as sy"
   ]
  },
  {
   "cell_type": "code",
   "execution_count": null,
   "metadata": {},
   "outputs": [],
   "source": [
    "# 3차원 그래픽\n",
    "# 3D Graphics\n",
    "from mpl_toolkits.mplot3d import Axes3D"
   ]
  },
  {
   "cell_type": "markdown",
   "metadata": {},
   "source": [
    "# 3차원 공간의 직선과 평면<br>Lines and Planes of 3D Spaces"
   ]
  },
  {
   "cell_type": "markdown",
   "metadata": {},
   "source": [
    "## 3차원 공간의 직선<br>Lines of 3D Spaces"
   ]
  },
  {
   "cell_type": "markdown",
   "metadata": {},
   "source": [
    "3차원 공간의 직선을 벡터로 표시해 보자.<br>Let's describe a line on a 3D space using vectors."
   ]
  },
  {
   "cell_type": "markdown",
   "metadata": {},
   "source": [
    "$$\n",
    "    \\mathbf{x}=\\mathbf{x_0}+t \\cdot \\mathbf{d}\n",
    "$$"
   ]
  },
  {
   "cell_type": "markdown",
   "metadata": {},
   "source": [
    "여기서 $\\mathbf{x_0}$는 직선 위의 점, $\\mathbf{d}$는 직선의 방향, $t$는 $-\\infty$ 와 $\\infty$ 사이에서 변화하는 매개변수이다. <br>Here, $\\mathbf{x_0}$ is a point on the line, $\\mathbf{d}$ is the direction of the line, and $t$ is a parameter that changes between $-\\infty$ and $\\infty$.  "
   ]
  },
  {
   "cell_type": "markdown",
   "metadata": {},
   "source": [
    "예를 들어 $\\mathbf{x}_0=(-1, 1, 1)^T$ 을 지나고 방향은 $\\mathbf{d}=(1, 1, 1)^T$ 인 직선을 그려보자.<br>\n",
    "For example, let's plot a line passing $\\mathbf{x}_0=(-1, 1, 1)^T$ with direction of $\\mathbf{d}=(1, 1, 1)^T$."
   ]
  },
  {
   "cell_type": "code",
   "execution_count": null,
   "metadata": {},
   "outputs": [],
   "source": [
    "x_0 = np.matrix([[-1, 1, 1]]).T\n",
    "d = np.matrix([[1, 1, 1]]).T\n",
    "t = np.matrix([np.arange(-10, 10)])\n",
    "x = (x_0 + d * t).tolist()\n",
    "\n",
    "fig = py.figure(figsize=(10, 10))\n",
    "ax = fig.add_subplot(111, projection='3d')\n",
    "\n",
    "ax.plot(x[0], x[1], x[2], label='line')\n",
    "ax.plot((0, x_0[0, 0]), (0, x_0[1, 0]), (0, x_0[2, 0]), label='$\\\\mathbf{x_0}$')\n",
    "ax.plot((x_0[0, 0], x_0[0, 0]+d[0, 0]), \n",
    "        (x_0[1, 0], x_0[1, 0]+d[1, 0]), \n",
    "        (x_0[2, 0], x_0[2, 0]+d[2, 0]), \n",
    "        label='$\\\\mathbf{d}$', linewidth=3)\n",
    "\n",
    "py.legend(loc=0)"
   ]
  },
  {
   "cell_type": "code",
   "execution_count": null,
   "metadata": {},
   "outputs": [],
   "source": []
  }
 ],
 "metadata": {
  "kernelspec": {
   "display_name": "Python 3",
   "language": "python",
   "name": "python3"
  },
  "language_info": {
   "codemirror_mode": {
    "name": "ipython",
    "version": 3
   },
   "file_extension": ".py",
   "mimetype": "text/x-python",
   "name": "python",
   "nbconvert_exporter": "python",
   "pygments_lexer": "ipython3",
   "version": "3.6.5"
  }
 },
 "nbformat": 4,
 "nbformat_minor": 2
}
