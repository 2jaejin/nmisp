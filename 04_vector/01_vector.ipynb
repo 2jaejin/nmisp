{
 "cells": [
  {
   "cell_type": "code",
   "execution_count": null,
   "metadata": {},
   "outputs": [],
   "source": [
    "# 그래프, 수학 기능 추가\n",
    "# Add graph and math features\n",
    "import pylab as py\n",
    "import numpy as np\n",
    "import numpy.linalg as nl\n",
    "# 기호 연산 기능 추가\n",
    "# Add symbolic operation capability\n",
    "import sympy as sy"
   ]
  },
  {
   "cell_type": "markdown",
   "metadata": {},
   "source": [
    "벡터는 크기만이 아니라 방향도 가지는 양이다.<br>\n",
    "Vectors is a quantity having both its magnitude and its direction."
   ]
  },
  {
   "cell_type": "markdown",
   "metadata": {},
   "source": [
    "벡터에 관해 아래 비디오 링크를 참고할 수 있다.<br>\n",
    "Regarding the vector, you can check the following link.<br>\n",
    "<br>\n",
    "[![칸 아카데미: 벡터와 벡터 공간<br>Khan Academy: Vectors and spaces](https://i.ytimg.com/vi/br7tS1t2SFE/hqdefault.jpg)](https://www.youtube.com/watch?v=br7tS1t2SFE&list=PLrsBhRPS9dWHGfBTLJcmeopwjbTCn6cUe)"
   ]
  },
  {
   "cell_type": "markdown",
   "metadata": {},
   "source": [
    "예를 들어 2차원 열 벡터를 생각해 보자.<br>\n",
    "For example, let's think about two-dimensional column vectors (2D column vectors)."
   ]
  },
  {
   "cell_type": "code",
   "execution_count": null,
   "metadata": {},
   "outputs": [],
   "source": []
  }
 ],
 "metadata": {
  "kernelspec": {
   "display_name": "Python 3",
   "language": "python",
   "name": "python3"
  },
  "language_info": {
   "codemirror_mode": {
    "name": "ipython",
    "version": 3
   },
   "file_extension": ".py",
   "mimetype": "text/x-python",
   "name": "python",
   "nbconvert_exporter": "python",
   "pygments_lexer": "ipython3",
   "version": "3.6.5"
  }
 },
 "nbformat": 4,
 "nbformat_minor": 2
}
