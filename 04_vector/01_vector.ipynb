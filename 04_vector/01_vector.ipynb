{
 "cells": [
  {
   "cell_type": "code",
   "execution_count": null,
   "metadata": {},
   "outputs": [],
   "source": [
    "# 그래프, 수학 기능 추가\n",
    "# Add graph and math features\n",
    "import pylab as py\n",
    "import numpy as np\n",
    "import numpy.linalg as nl\n",
    "# 기호 연산 기능 추가\n",
    "# Add symbolic operation capability\n",
    "import sympy as sy"
   ]
  },
  {
   "cell_type": "markdown",
   "metadata": {},
   "source": [
    "벡터는 크기만이 아니라 방향도 가지는 양이다.<br>\n",
    "Vectors is a quantity having both its magnitude and its direction."
   ]
  },
  {
   "cell_type": "markdown",
   "metadata": {},
   "source": [
    "벡터에 관해 아래 비디오 링크를 참고할 수 있다. (5:48)<br>\n",
    "Regarding the vector, you can check the following link. (5:48)<br>\n",
    "<br>\n",
    "[![칸 아카데미 | 벡터와 벡터 공간 | 벡터와 공간 | 선형대수를 위한 벡터 소개<br>Khan Academy | Linear Algebra | Vectors and spaces | Vector intro for linear algebra](https://i.ytimg.com/vi/br7tS1t2SFE/hqdefault.jpg)](https://www.youtube.com/watch?v=br7tS1t2SFE)"
   ]
  },
  {
   "cell_type": "markdown",
   "metadata": {},
   "source": [
    "예를 들어 2차원 벡터를 생각해 보자.<br>\n",
    "For example, let's think about two-dimensional vectors (2D vectors)."
   ]
  },
  {
   "cell_type": "code",
   "execution_count": null,
   "metadata": {},
   "outputs": [],
   "source": [
    "# ref : https://www.youtube.com/watch?v=8QihetGj3pg\n",
    "a = np.array((6, -2))\n",
    "b = np.array((-4, 4))"
   ]
  },
  {
   "cell_type": "code",
   "execution_count": null,
   "metadata": {},
   "outputs": [],
   "source": [
    "a"
   ]
  },
  {
   "cell_type": "code",
   "execution_count": null,
   "metadata": {},
   "outputs": [],
   "source": [
    "b"
   ]
  },
  {
   "cell_type": "markdown",
   "metadata": {},
   "source": [
    "위 2차원 벡터를 한번 그려 보자<br>\n",
    "Let's plot the 2D vectors above."
   ]
  },
  {
   "cell_type": "code",
   "execution_count": null,
   "metadata": {},
   "outputs": [],
   "source": [
    "def draw_2dvec(x, y, x0=0, y0=0):\n",
    "    py.quiver(x0, y0, x, y, angles='xy', scale_units='xy', scale=1)"
   ]
  },
  {
   "cell_type": "code",
   "execution_count": null,
   "metadata": {},
   "outputs": [],
   "source": [
    "draw_2dvec(a[0], a[1])\n",
    "draw_2dvec(b[0], b[1])\n",
    "\n",
    "py.axis('equal')\n",
    "py.xlim((-8, 8))\n",
    "py.ylim((-8, 8))\n",
    "py.grid(True)"
   ]
  },
  {
   "cell_type": "markdown",
   "metadata": {},
   "source": [
    "두 벡터를 더해 보자.<br>Let's add two vectors."
   ]
  },
  {
   "cell_type": "code",
   "execution_count": null,
   "metadata": {},
   "outputs": [],
   "source": [
    "a_plus_b = a + b"
   ]
  },
  {
   "cell_type": "code",
   "execution_count": null,
   "metadata": {
    "scrolled": true
   },
   "outputs": [],
   "source": [
    "a_plus_b"
   ]
  },
  {
   "cell_type": "markdown",
   "metadata": {},
   "source": [
    "벡터의 합을 그려보자.<br>\n",
    "Let's draw the sum of vectors."
   ]
  },
  {
   "cell_type": "code",
   "execution_count": null,
   "metadata": {},
   "outputs": [],
   "source": [
    "draw_2dvec(a[0], a[1])\n",
    "draw_2dvec(b[0], b[1])\n",
    "draw_2dvec(a_plus_b[0], a_plus_b[1])\n",
    "\n",
    "py.axis('equal')\n",
    "py.xlim((-8, 8))\n",
    "py.ylim((-8, 8))\n",
    "py.grid(True)"
   ]
  },
  {
   "cell_type": "code",
   "execution_count": null,
   "metadata": {},
   "outputs": [],
   "source": []
  }
 ],
 "metadata": {
  "kernelspec": {
   "display_name": "Python 3",
   "language": "python",
   "name": "python3"
  },
  "language_info": {
   "codemirror_mode": {
    "name": "ipython",
    "version": 3
   },
   "file_extension": ".py",
   "mimetype": "text/x-python",
   "name": "python",
   "nbconvert_exporter": "python",
   "pygments_lexer": "ipython3",
   "version": "3.6.5"
  }
 },
 "nbformat": 4,
 "nbformat_minor": 2
}
