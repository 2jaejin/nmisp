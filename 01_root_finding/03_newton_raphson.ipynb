{
 "cells": [
  {
   "cell_type": "code",
   "execution_count": null,
   "metadata": {},
   "outputs": [],
   "source": [
    "# 그래프, 수학 기능 추가\n",
    "# Add graph and math features\n",
    "import pylab as py"
   ]
  },
  {
   "cell_type": "markdown",
   "metadata": {},
   "source": [
    "# 뉴튼 랩슨법<br>Newton Rapson Method"
   ]
  },
  {
   "cell_type": "markdown",
   "metadata": {},
   "source": [
    "## 배경<br>Background"
   ]
  },
  {
   "cell_type": "markdown",
   "metadata": {},
   "source": [
    "10의 제곱근을 구하기 위해 사용했던 함수를 생각해 보자.<br>Let's think about the function that we used to find the square root of 10."
   ]
  },
  {
   "cell_type": "markdown",
   "metadata": {},
   "source": [
    "$$\n",
    "f(x)=x^2-10\n",
    "$$"
   ]
  },
  {
   "cell_type": "markdown",
   "metadata": {},
   "source": [
    "이 함수는 연속이고 미분 가능하다.<br>This function is continuous and differentiable."
   ]
  },
  {
   "cell_type": "markdown",
   "metadata": {},
   "source": [
    "$$\n",
    "\\frac{d}{dx}f(x)=2x\n",
    "$$"
   ]
  },
  {
   "cell_type": "code",
   "execution_count": null,
   "metadata": {},
   "outputs": [],
   "source": [
    "# x 의 범위와 간격을 지정 \n",
    "# Specify range and interval of x\n",
    "x_start = 0\n",
    "x_end = 6\n",
    "x_interval = 0.5\n",
    "\n",
    "def plot(x_start, x_end, x_interval=None):\n",
    "    if x_interval is None:\n",
    "        x_interval = x_end - x_start\n",
    "\n",
    "    x = py.arange(x_start, x_end+0.1*x_interval, x_interval)\n",
    "    # y = x^2\n",
    "    py.plot(x, x**2 - 10, 'ko', label='$y=x^2-10$')\n",
    "    # y = 2x\n",
    "    py.plot(x, 2 * x, 'b.', label='$y=2x$')\n",
    "    # y = 0\n",
    "    py.plot(x, py.zeros_like(x), 'ro', label='y=0')\n",
    "\n",
    "    # +/- epsilon\n",
    "    epsilon=0.15\n",
    "    py.plot(x, epsilon * py.ones_like(x), 'r-.', label='$+\\epsilon$')\n",
    "    py.plot(x, -epsilon * py.ones_like(x), 'r--', label='$-\\epsilon$')\n",
    "\n",
    "    # x 축 이름표\n",
    "    # x axis label\n",
    "    py.xlabel('x')\n",
    "\n",
    "    # y 축 이름표\n",
    "    # y axis label\n",
    "    py.ylabel('y')\n",
    "\n",
    "    # 범례 표시\n",
    "    # Show legend\n",
    "    py.legend()\n",
    "\n",
    "    # 모눈 표시\n",
    "    # Indicate grid\n",
    "    py.grid()\n",
    "    \n",
    "    return x\n",
    "\n",
    "plot(x_start, x_end, x_interval)"
   ]
  },
  {
   "cell_type": "markdown",
   "metadata": {},
   "source": [
    "이를 이용하여, 원하는 위치에서의 접선을 그릴 수 있다.<br>Using this, we can plot a tangent at a desirable location. "
   ]
  },
  {
   "cell_type": "code",
   "execution_count": null,
   "metadata": {},
   "outputs": [],
   "source": [
    "def plot_one_tangent(x, x_interval):\n",
    "    y = x ** 2 - 10\n",
    "    slope = 2 * x\n",
    "    \n",
    "    x_tangent_array = py.linspace(x - x_interval * 0.4, x + x_interval * 0.4, 101)\n",
    "    y_tangent_array = slope * (x_tangent_array - x) + y\n",
    "    \n",
    "    py.plot(x_tangent_array, y_tangent_array, 'b-')\n",
    "\n",
    "def plot_many_tangents(x_array):\n",
    "\n",
    "    x_interval = x_array[1] - x_array[0]\n",
    "\n",
    "    for x_i in x_array:\n",
    "        \n",
    "        plot_one_tangent(x_i, x_interval)\n",
    "\n",
    "x = plot(x_start, x_end, x_interval)\n",
    "\n",
    "plot_many_tangents(x)"
   ]
  }
 ],
 "metadata": {
  "kernelspec": {
   "display_name": "Python 3",
   "language": "python",
   "name": "python3"
  },
  "language_info": {
   "codemirror_mode": {
    "name": "ipython",
    "version": 3
   },
   "file_extension": ".py",
   "mimetype": "text/x-python",
   "name": "python",
   "nbconvert_exporter": "python",
   "pygments_lexer": "ipython3",
   "version": "3.6.4"
  }
 },
 "nbformat": 4,
 "nbformat_minor": 2
}
