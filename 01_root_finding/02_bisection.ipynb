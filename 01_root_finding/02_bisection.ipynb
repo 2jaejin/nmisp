{
 "cells": [
  {
   "cell_type": "code",
   "execution_count": null,
   "metadata": {},
   "outputs": [],
   "source": [
    "# 그래프, 수학 기능 추가\n",
    "# Add graph and math features\n",
    "import pylab as py"
   ]
  },
  {
   "cell_type": "markdown",
   "metadata": {},
   "source": [
    "# 이분법<br>Bisection Method"
   ]
  },
  {
   "cell_type": "markdown",
   "metadata": {},
   "source": [
    "다시 10의 제곱근을 구한다고 생각해 보자.<br>Again, let's try to find the square root of 10."
   ]
  },
  {
   "cell_type": "markdown",
   "metadata": {},
   "source": [
    "$$\n",
    "f(x)=x^2-10 = 0\n",
    "$$"
   ]
  },
  {
   "cell_type": "code",
   "execution_count": null,
   "metadata": {},
   "outputs": [],
   "source": [
    "# x 의 범위와 간격을 지정 \n",
    "# Specify range and interval of x\n",
    "x = py.arange(0, 6+0.1, 0.5)\n",
    "# y = x^2\n",
    "py.plot(x, x**2 - 10, 'ko', label='$y=x^2-10$')\n",
    "# y = 0\n",
    "py.plot(x, py.zeros_like(x), 'ro', label='y=0')\n",
    "\n",
    "# +/- epsilon\n",
    "epsilon=0.15\n",
    "py.plot(x, epsilon * py.ones_like(x), 'r-.', label='$+\\epsilon$')\n",
    "py.plot(x, -epsilon * py.ones_like(x), 'r--', label='$-\\epsilon$')\n",
    "\n",
    "# x 축 이름표\n",
    "# x axis label\n",
    "py.xlabel('x')\n",
    "\n",
    "# y 축 이름표\n",
    "# y axis label\n",
    "py.ylabel('y')\n",
    "\n",
    "# 범례 표시\n",
    "# Show legend\n",
    "py.legend()\n",
    "\n",
    "# 모눈 표시\n",
    "# Indicate grid\n",
    "py.grid()"
   ]
  },
  {
   "cell_type": "markdown",
   "metadata": {},
   "source": [
    "함수 $f(x) = x^2-10$은 구간 $0 \\le x \\le 6$ 에서 연속이고 부호가 (최소한 한번) 바뀐다.<br>\n",
    "Function $f(x) = x^2-10$ is continuous within $0 \\le x \\le 6$ and changes its sign (at least once)."
   ]
  },
  {
   "cell_type": "markdown",
   "metadata": {},
   "source": [
    "이는 구간 $0 \\le x \\le 6$ 에서 최소한 한 $x$ 값은 $f(x)=0$ 을 만족한다는 것을 뜻한다.<br>\n",
    "This means that there is at least one $x$ satisfying $f(x)=0$."
   ]
  }
 ],
 "metadata": {
  "kernelspec": {
   "display_name": "Python 3",
   "language": "python",
   "name": "python3"
  },
  "language_info": {
   "codemirror_mode": {
    "name": "ipython",
    "version": 3
   },
   "file_extension": ".py",
   "mimetype": "text/x-python",
   "name": "python",
   "nbconvert_exporter": "python",
   "pygments_lexer": "ipython3",
   "version": "3.6.4"
  }
 },
 "nbformat": 4,
 "nbformat_minor": 2
}
