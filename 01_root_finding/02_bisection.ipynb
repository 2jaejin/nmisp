{
 "cells": [
  {
   "cell_type": "code",
   "execution_count": null,
   "metadata": {},
   "outputs": [],
   "source": [
    "# 그래프, 수학 기능 추가\n",
    "# Add graph and math features\n",
    "import pylab as py"
   ]
  },
  {
   "cell_type": "markdown",
   "metadata": {},
   "source": [
    "# 이분법<br>Bisection Method"
   ]
  },
  {
   "cell_type": "markdown",
   "metadata": {},
   "source": [
    "## 배경<br>Background"
   ]
  },
  {
   "cell_type": "markdown",
   "metadata": {},
   "source": [
    "다시 10의 제곱근을 구한다고 생각해 보자.<br>Again, let's try to find the square root of 10."
   ]
  },
  {
   "cell_type": "markdown",
   "metadata": {},
   "source": [
    "$$\n",
    "f(x)=x^2-10 = 0\n",
    "$$"
   ]
  },
  {
   "cell_type": "code",
   "execution_count": null,
   "metadata": {},
   "outputs": [],
   "source": [
    "# x 의 범위와 간격을 지정 \n",
    "# Specify range and interval of x\n",
    "x_start = 0\n",
    "x_end = 6\n",
    "x_interval = 0.5\n",
    "\n",
    "def plot(x_start, x_end, x_interval=None):\n",
    "    if x_interval is None:\n",
    "        x_interval = x_end - x_start\n",
    "\n",
    "    x = py.arange(x_start, x_end+0.1*x_interval, x_interval)\n",
    "    # y = x^2\n",
    "    py.plot(x, x**2 - 10, 'ko', label='$y=x^2-10$')\n",
    "    # y = 0\n",
    "    py.plot(x, py.zeros_like(x), 'ro', label='y=0')\n",
    "\n",
    "    # +/- epsilon\n",
    "    epsilon=0.15\n",
    "    py.plot(x, epsilon * py.ones_like(x), 'r-.', label='$+\\epsilon$')\n",
    "    py.plot(x, -epsilon * py.ones_like(x), 'r--', label='$-\\epsilon$')\n",
    "\n",
    "    # x 축 이름표\n",
    "    # x axis label\n",
    "    py.xlabel('x')\n",
    "\n",
    "    # y 축 이름표\n",
    "    # y axis label\n",
    "    py.ylabel('y')\n",
    "\n",
    "    # 범례 표시\n",
    "    # Show legend\n",
    "    py.legend()\n",
    "\n",
    "    # 모눈 표시\n",
    "    # Indicate grid\n",
    "    py.grid()\n",
    "\n",
    "plot(x_start, x_end, x_interval)"
   ]
  },
  {
   "cell_type": "markdown",
   "metadata": {},
   "source": [
    "함수 $f(x) = x^2-10$은 구간 $0 \\le x \\le 6$ 에서 연속이고 부호가 최소한 한번 바뀐다.<br>\n",
    "Function $f(x) = x^2-10$ is continuous within $0 \\le x \\le 6$ and changes its sign at least once."
   ]
  },
  {
   "cell_type": "markdown",
   "metadata": {},
   "source": [
    "이는 구간 $0 \\le x \\le 6$ 에서 최소한 한 $x$ 값은 $f(x)=0$ 을 만족한다는 것을 뜻한다. 이런 $x$ 가 우리가 찾고 싶어 햐는 $f(x)$의 근이다.<br>\n",
    "This means that there is at least one $x$ satisfying $f(x)=0$. Such $x$ would be the root of $f(x)$ that we would like to find."
   ]
  },
  {
   "cell_type": "markdown",
   "metadata": {},
   "source": [
    "## 이분법<br>Bisection Method"
   ]
  },
  {
   "cell_type": "markdown",
   "metadata": {},
   "source": [
    "이분법은 처음에는 $x=0$, $x=6$ 두 점에서 출발한다.<br>\n",
    "The algorithm starts at the two points of $x=0$ and $x=6$."
   ]
  },
  {
   "cell_type": "code",
   "execution_count": null,
   "metadata": {
    "scrolled": true
   },
   "outputs": [],
   "source": [
    "py.clf()\n",
    "plot(0, 6)"
   ]
  },
  {
   "cell_type": "markdown",
   "metadata": {},
   "source": [
    "이분법은 이 $0 \\le x \\le 6$ 구간을 $0 \\le x \\le 3$, $3 \\le x \\le 6$ 두 구간으로 나눈다.<br>\n",
    "Bisection method divides this $0 \\le x \\le 6$ interval into $0 \\le x \\le 3$ and  $3 \\le x \\le 6$ intervals."
   ]
  },
  {
   "cell_type": "code",
   "execution_count": null,
   "metadata": {},
   "outputs": [],
   "source": [
    "py.clf()\n",
    "\n",
    "py.subplot(1, 2, 1)\n",
    "plot(0, 3)\n",
    "\n",
    "py.subplot(1, 2, 2)\n",
    "plot(3, 6)"
   ]
  },
  {
   "cell_type": "markdown",
   "metadata": {},
   "source": [
    "$0 \\le x \\le 3$ 구간에서는 $f(x)$의 부호가 바뀌지 않았지만, $3 \\le x \\le 6$ 구간에서는 변했다.<br>\n",
    "Within the $0 \\le x \\le 3$ interval, $f(x)$ did not change its sign but did in $3 \\le x \\le 6$ interval."
   ]
  },
  {
   "cell_type": "markdown",
   "metadata": {},
   "source": [
    "$0 \\le x \\le 3$ 구간에는 $f(x)$의 근이 없을 듯 싶지만, $3 \\le x \\le 6$ 구간에는 반드시 있을 것이다.<br>\n",
    "Within the $0 \\le x \\le 3$ interval, $f(x)$ may not have a root but would in $3 \\le x \\le 6$ interval."
   ]
  },
  {
   "cell_type": "markdown",
   "metadata": {},
   "source": [
    "이제는 $3 \\le x \\le 6$ 구간만 검토한다.<br>Now we would evaluate interval $3 \\le x \\le 6$ only."
   ]
  },
  {
   "cell_type": "code",
   "execution_count": null,
   "metadata": {},
   "outputs": [],
   "source": [
    "py.clf()\n",
    "plot(3, 6)"
   ]
  }
 ],
 "metadata": {
  "kernelspec": {
   "display_name": "Python 3",
   "language": "python",
   "name": "python3"
  },
  "language_info": {
   "codemirror_mode": {
    "name": "ipython",
    "version": 3
   },
   "file_extension": ".py",
   "mimetype": "text/x-python",
   "name": "python",
   "nbconvert_exporter": "python",
   "pygments_lexer": "ipython3",
   "version": "3.6.4"
  }
 },
 "nbformat": 4,
 "nbformat_minor": 2
}
